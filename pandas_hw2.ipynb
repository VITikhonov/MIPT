{
 "cells": [
  {
   "cell_type": "code",
   "execution_count": 1,
   "id": "ae94c7dc",
   "metadata": {},
   "outputs": [],
   "source": [
    "import pandas as pd"
   ]
  },
  {
   "cell_type": "markdown",
   "id": "cfb1c1d8",
   "metadata": {},
   "source": [
    "### 1. Загружаем исходный датасет\n",
    "#### Для того, чтобы минимизировать memory usage приведем в соответствие тип данных в столбцах"
   ]
  },
  {
   "cell_type": "code",
   "execution_count": 2,
   "id": "2c7c37dd",
   "metadata": {},
   "outputs": [],
   "source": [
    "df_train = pd.read_csv('train.csv', sep=',', index_col=0,\n",
    "                       dtype = {'row_id': 'int64', 'timestamp': 'int64', 'user_id': 'int32', 'content_id': 'int16', \n",
    "                                'content_type_id': 'int8', 'task_container_id': 'int16', 'user_answer': 'int8', \n",
    "                                'answered_correctly': 'int8', 'prior_question_elapsed_time': 'float32', \n",
    "                                'prior_question_had_explanation': 'boolean'\n",
    "                               }\n",
    "                      )"
   ]
  },
  {
   "cell_type": "code",
   "execution_count": 3,
   "id": "e752b783",
   "metadata": {
    "scrolled": false
   },
   "outputs": [
    {
     "data": {
      "text/html": [
       "<div>\n",
       "<style scoped>\n",
       "    .dataframe tbody tr th:only-of-type {\n",
       "        vertical-align: middle;\n",
       "    }\n",
       "\n",
       "    .dataframe tbody tr th {\n",
       "        vertical-align: top;\n",
       "    }\n",
       "\n",
       "    .dataframe thead th {\n",
       "        text-align: right;\n",
       "    }\n",
       "</style>\n",
       "<table border=\"1\" class=\"dataframe\">\n",
       "  <thead>\n",
       "    <tr style=\"text-align: right;\">\n",
       "      <th></th>\n",
       "      <th>timestamp</th>\n",
       "      <th>user_id</th>\n",
       "      <th>content_id</th>\n",
       "      <th>content_type_id</th>\n",
       "      <th>task_container_id</th>\n",
       "      <th>user_answer</th>\n",
       "      <th>answered_correctly</th>\n",
       "      <th>prior_question_elapsed_time</th>\n",
       "      <th>prior_question_had_explanation</th>\n",
       "    </tr>\n",
       "    <tr>\n",
       "      <th>row_id</th>\n",
       "      <th></th>\n",
       "      <th></th>\n",
       "      <th></th>\n",
       "      <th></th>\n",
       "      <th></th>\n",
       "      <th></th>\n",
       "      <th></th>\n",
       "      <th></th>\n",
       "      <th></th>\n",
       "    </tr>\n",
       "  </thead>\n",
       "  <tbody>\n",
       "    <tr>\n",
       "      <th>0</th>\n",
       "      <td>0</td>\n",
       "      <td>115</td>\n",
       "      <td>5692</td>\n",
       "      <td>0</td>\n",
       "      <td>1</td>\n",
       "      <td>3</td>\n",
       "      <td>1</td>\n",
       "      <td>NaN</td>\n",
       "      <td>&lt;NA&gt;</td>\n",
       "    </tr>\n",
       "    <tr>\n",
       "      <th>1</th>\n",
       "      <td>56943</td>\n",
       "      <td>115</td>\n",
       "      <td>5716</td>\n",
       "      <td>0</td>\n",
       "      <td>2</td>\n",
       "      <td>2</td>\n",
       "      <td>1</td>\n",
       "      <td>37000.0</td>\n",
       "      <td>False</td>\n",
       "    </tr>\n",
       "    <tr>\n",
       "      <th>2</th>\n",
       "      <td>118363</td>\n",
       "      <td>115</td>\n",
       "      <td>128</td>\n",
       "      <td>0</td>\n",
       "      <td>0</td>\n",
       "      <td>0</td>\n",
       "      <td>1</td>\n",
       "      <td>55000.0</td>\n",
       "      <td>False</td>\n",
       "    </tr>\n",
       "    <tr>\n",
       "      <th>3</th>\n",
       "      <td>131167</td>\n",
       "      <td>115</td>\n",
       "      <td>7860</td>\n",
       "      <td>0</td>\n",
       "      <td>3</td>\n",
       "      <td>0</td>\n",
       "      <td>1</td>\n",
       "      <td>19000.0</td>\n",
       "      <td>False</td>\n",
       "    </tr>\n",
       "    <tr>\n",
       "      <th>4</th>\n",
       "      <td>137965</td>\n",
       "      <td>115</td>\n",
       "      <td>7922</td>\n",
       "      <td>0</td>\n",
       "      <td>4</td>\n",
       "      <td>1</td>\n",
       "      <td>1</td>\n",
       "      <td>11000.0</td>\n",
       "      <td>False</td>\n",
       "    </tr>\n",
       "    <tr>\n",
       "      <th>5</th>\n",
       "      <td>157063</td>\n",
       "      <td>115</td>\n",
       "      <td>156</td>\n",
       "      <td>0</td>\n",
       "      <td>5</td>\n",
       "      <td>2</td>\n",
       "      <td>1</td>\n",
       "      <td>5000.0</td>\n",
       "      <td>False</td>\n",
       "    </tr>\n",
       "    <tr>\n",
       "      <th>6</th>\n",
       "      <td>176092</td>\n",
       "      <td>115</td>\n",
       "      <td>51</td>\n",
       "      <td>0</td>\n",
       "      <td>6</td>\n",
       "      <td>0</td>\n",
       "      <td>1</td>\n",
       "      <td>17000.0</td>\n",
       "      <td>False</td>\n",
       "    </tr>\n",
       "    <tr>\n",
       "      <th>7</th>\n",
       "      <td>194190</td>\n",
       "      <td>115</td>\n",
       "      <td>50</td>\n",
       "      <td>0</td>\n",
       "      <td>7</td>\n",
       "      <td>3</td>\n",
       "      <td>1</td>\n",
       "      <td>17000.0</td>\n",
       "      <td>False</td>\n",
       "    </tr>\n",
       "    <tr>\n",
       "      <th>8</th>\n",
       "      <td>212463</td>\n",
       "      <td>115</td>\n",
       "      <td>7896</td>\n",
       "      <td>0</td>\n",
       "      <td>8</td>\n",
       "      <td>2</td>\n",
       "      <td>1</td>\n",
       "      <td>16000.0</td>\n",
       "      <td>False</td>\n",
       "    </tr>\n",
       "    <tr>\n",
       "      <th>9</th>\n",
       "      <td>230983</td>\n",
       "      <td>115</td>\n",
       "      <td>7863</td>\n",
       "      <td>0</td>\n",
       "      <td>9</td>\n",
       "      <td>0</td>\n",
       "      <td>1</td>\n",
       "      <td>16000.0</td>\n",
       "      <td>False</td>\n",
       "    </tr>\n",
       "  </tbody>\n",
       "</table>\n",
       "</div>"
      ],
      "text/plain": [
       "        timestamp  user_id  content_id  content_type_id  task_container_id  \\\n",
       "row_id                                                                       \n",
       "0               0      115        5692                0                  1   \n",
       "1           56943      115        5716                0                  2   \n",
       "2          118363      115         128                0                  0   \n",
       "3          131167      115        7860                0                  3   \n",
       "4          137965      115        7922                0                  4   \n",
       "5          157063      115         156                0                  5   \n",
       "6          176092      115          51                0                  6   \n",
       "7          194190      115          50                0                  7   \n",
       "8          212463      115        7896                0                  8   \n",
       "9          230983      115        7863                0                  9   \n",
       "\n",
       "        user_answer  answered_correctly  prior_question_elapsed_time  \\\n",
       "row_id                                                                 \n",
       "0                 3                   1                          NaN   \n",
       "1                 2                   1                      37000.0   \n",
       "2                 0                   1                      55000.0   \n",
       "3                 0                   1                      19000.0   \n",
       "4                 1                   1                      11000.0   \n",
       "5                 2                   1                       5000.0   \n",
       "6                 0                   1                      17000.0   \n",
       "7                 3                   1                      17000.0   \n",
       "8                 2                   1                      16000.0   \n",
       "9                 0                   1                      16000.0   \n",
       "\n",
       "        prior_question_had_explanation  \n",
       "row_id                                  \n",
       "0                                 <NA>  \n",
       "1                                False  \n",
       "2                                False  \n",
       "3                                False  \n",
       "4                                False  \n",
       "5                                False  \n",
       "6                                False  \n",
       "7                                False  \n",
       "8                                False  \n",
       "9                                False  "
      ]
     },
     "execution_count": 3,
     "metadata": {},
     "output_type": "execute_result"
    }
   ],
   "source": [
    "df_train.head(10)"
   ]
  },
  {
   "cell_type": "code",
   "execution_count": 8,
   "id": "392d80e2",
   "metadata": {},
   "outputs": [
    {
     "name": "stdout",
     "output_type": "stream",
     "text": [
      "<class 'pandas.core.frame.DataFrame'>\n",
      "Int64Index: 101230332 entries, 0 to 101230331\n",
      "Data columns (total 9 columns):\n",
      " #   Column                          Dtype  \n",
      "---  ------                          -----  \n",
      " 0   timestamp                       int64  \n",
      " 1   user_id                         int32  \n",
      " 2   content_id                      int16  \n",
      " 3   content_type_id                 int8   \n",
      " 4   task_container_id               int16  \n",
      " 5   user_answer                     int8   \n",
      " 6   answered_correctly              int8   \n",
      " 7   prior_question_elapsed_time     float32\n",
      " 8   prior_question_had_explanation  boolean\n",
      "dtypes: boolean(1), float32(1), int16(2), int32(1), int64(1), int8(3)\n",
      "memory usage: 3.1 GB\n"
     ]
    }
   ],
   "source": [
    "df_train.info()"
   ]
  },
  {
   "cell_type": "markdown",
   "id": "cbef8a4a",
   "metadata": {},
   "source": [
    "#### Найдем количество уникальных значений в колонках"
   ]
  },
  {
   "cell_type": "code",
   "execution_count": 10,
   "id": "9d33a9e5",
   "metadata": {},
   "outputs": [
    {
     "data": {
      "text/html": [
       "<div>\n",
       "<style scoped>\n",
       "    .dataframe tbody tr th:only-of-type {\n",
       "        vertical-align: middle;\n",
       "    }\n",
       "\n",
       "    .dataframe tbody tr th {\n",
       "        vertical-align: top;\n",
       "    }\n",
       "\n",
       "    .dataframe thead th {\n",
       "        text-align: right;\n",
       "    }\n",
       "</style>\n",
       "<table border=\"1\" class=\"dataframe\">\n",
       "  <thead>\n",
       "    <tr style=\"text-align: right;\">\n",
       "      <th></th>\n",
       "      <th>Column_Name</th>\n",
       "      <th>Num_Unique</th>\n",
       "      <th>Type</th>\n",
       "    </tr>\n",
       "  </thead>\n",
       "  <tbody>\n",
       "    <tr>\n",
       "      <th>0</th>\n",
       "      <td>content_type_id</td>\n",
       "      <td>2</td>\n",
       "      <td>int8</td>\n",
       "    </tr>\n",
       "    <tr>\n",
       "      <th>1</th>\n",
       "      <td>prior_question_had_explanation</td>\n",
       "      <td>2</td>\n",
       "      <td>boolean</td>\n",
       "    </tr>\n",
       "    <tr>\n",
       "      <th>2</th>\n",
       "      <td>answered_correctly</td>\n",
       "      <td>3</td>\n",
       "      <td>int8</td>\n",
       "    </tr>\n",
       "    <tr>\n",
       "      <th>3</th>\n",
       "      <td>user_answer</td>\n",
       "      <td>5</td>\n",
       "      <td>int8</td>\n",
       "    </tr>\n",
       "    <tr>\n",
       "      <th>4</th>\n",
       "      <td>prior_question_elapsed_time</td>\n",
       "      <td>3258</td>\n",
       "      <td>float32</td>\n",
       "    </tr>\n",
       "    <tr>\n",
       "      <th>5</th>\n",
       "      <td>task_container_id</td>\n",
       "      <td>10000</td>\n",
       "      <td>int16</td>\n",
       "    </tr>\n",
       "    <tr>\n",
       "      <th>6</th>\n",
       "      <td>content_id</td>\n",
       "      <td>13782</td>\n",
       "      <td>int16</td>\n",
       "    </tr>\n",
       "    <tr>\n",
       "      <th>7</th>\n",
       "      <td>user_id</td>\n",
       "      <td>393656</td>\n",
       "      <td>int32</td>\n",
       "    </tr>\n",
       "    <tr>\n",
       "      <th>8</th>\n",
       "      <td>timestamp</td>\n",
       "      <td>72821015</td>\n",
       "      <td>int64</td>\n",
       "    </tr>\n",
       "  </tbody>\n",
       "</table>\n",
       "</div>"
      ],
      "text/plain": [
       "                      Column_Name  Num_Unique     Type\n",
       "0                 content_type_id           2     int8\n",
       "1  prior_question_had_explanation           2  boolean\n",
       "2              answered_correctly           3     int8\n",
       "3                     user_answer           5     int8\n",
       "4     prior_question_elapsed_time        3258  float32\n",
       "5               task_container_id       10000    int16\n",
       "6                      content_id       13782    int16\n",
       "7                         user_id      393656    int32\n",
       "8                       timestamp    72821015    int64"
      ]
     },
     "metadata": {},
     "output_type": "display_data"
    }
   ],
   "source": [
    "unique_list = []\n",
    "for col in df_train.columns:\n",
    "    item = (col, df_train[col].nunique(), df_train[col].dtype)\n",
    "    unique_list.append(item)\n",
    "unique_counts = pd.DataFrame(unique_list,\n",
    "                             columns=['Column_Name', 'Num_Unique', 'Type']\n",
    "                            ).sort_values(by='Num_Unique',  ignore_index=True)\n",
    "display(unique_counts)"
   ]
  },
  {
   "cell_type": "markdown",
   "id": "a2ba756b",
   "metadata": {},
   "source": [
    "#### Исследуем соотношение правильных и неправильных ответов (без лекций)"
   ]
  },
  {
   "cell_type": "code",
   "execution_count": 12,
   "id": "71463c5f",
   "metadata": {},
   "outputs": [
    {
     "data": {
      "text/plain": [
       "0.6572355454194717"
      ]
     },
     "execution_count": 12,
     "metadata": {},
     "output_type": "execute_result"
    }
   ],
   "source": [
    "df_train[df_train['answered_correctly'] != -1]['answered_correctly'].value_counts(normalize=True) \n",
    "df_train[df_train['answered_correctly'] != -1]['answered_correctly'].value_counts()[1] \n",
    "df_train[df_train['answered_correctly'] != -1]['answered_correctly'].value_counts()[0]\n",
    "df_train[df_train['answered_correctly'] != -1]['answered_correctly'].mean()"
   ]
  },
  {
   "cell_type": "markdown",
   "id": "0a3e145b",
   "metadata": {},
   "source": [
    "- 66% составляют правильные ответы (65 244 627), 34% - неправильные (34 026 673)\n",
    "- 0.657 - средний балл студента"
   ]
  },
  {
   "cell_type": "markdown",
   "id": "55a7b4cd",
   "metadata": {},
   "source": [
    "#### Получим дополнительные характеристики датасета"
   ]
  },
  {
   "cell_type": "code",
   "execution_count": 14,
   "id": "b0ec7882",
   "metadata": {},
   "outputs": [
    {
     "data": {
      "text/plain": [
       "13005.0810546875"
      ]
     },
     "execution_count": 14,
     "metadata": {},
     "output_type": "execute_result"
    }
   ],
   "source": [
    "df_train[df_train['content_type_id'] == 0].shape[0] / df_train['user_id'].nunique()\n",
    "df_train[df_train['answered_correctly'] != -1]['answered_correctly'].sum() / df_train['user_id'].nunique()\n",
    "df_train[df_train['content_type_id'] == 1].shape[0] / df_train['user_id'].nunique()\n",
    "df_train['prior_question_had_explanation'].sum() / df_train['user_id'].nunique()\n",
    "df_train['prior_question_elapsed_time'].mean()"
   ]
  },
  {
   "cell_type": "markdown",
   "id": "795bf942",
   "metadata": {},
   "source": [
    "- Cреднее число отвеченных вопросов: 252.17\n",
    "- Среднее кол-во правильных ответов: 165.74\n",
    "- Среднее число просмотренных лекций: 4.97\n",
    "- Среднее число виденных объяснений: 227.82\n",
    "- Среднее время, затрачиваемое на вопрос: 13005"
   ]
  },
  {
   "cell_type": "markdown",
   "id": "08d41421",
   "metadata": {},
   "source": [
    "#### Проанализируем меняется ли % правильных ответов в зависиомсти от: времени с начала сессии; среднего времеми ответа студента на вопросы; видел ли студент правильный ответ на предыдущее задание"
   ]
  },
  {
   "cell_type": "code",
   "execution_count": 15,
   "id": "24c759c6",
   "metadata": {},
   "outputs": [
    {
     "data": {
      "text/html": [
       "<div>\n",
       "<style scoped>\n",
       "    .dataframe tbody tr th:only-of-type {\n",
       "        vertical-align: middle;\n",
       "    }\n",
       "\n",
       "    .dataframe tbody tr th {\n",
       "        vertical-align: top;\n",
       "    }\n",
       "\n",
       "    .dataframe thead th {\n",
       "        text-align: right;\n",
       "    }\n",
       "</style>\n",
       "<table border=\"1\" class=\"dataframe\">\n",
       "  <thead>\n",
       "    <tr style=\"text-align: right;\">\n",
       "      <th></th>\n",
       "      <th>timestamp</th>\n",
       "      <th>prior_questions_time</th>\n",
       "      <th>had_explanation</th>\n",
       "    </tr>\n",
       "    <tr>\n",
       "      <th>answered_correctly</th>\n",
       "      <th></th>\n",
       "      <th></th>\n",
       "      <th></th>\n",
       "    </tr>\n",
       "  </thead>\n",
       "  <tbody>\n",
       "    <tr>\n",
       "      <th>0</th>\n",
       "      <td>7.235711e+09</td>\n",
       "      <td>25641.992188</td>\n",
       "      <td>29310272</td>\n",
       "    </tr>\n",
       "    <tr>\n",
       "      <th>1</th>\n",
       "      <td>7.945270e+09</td>\n",
       "      <td>25309.976562</td>\n",
       "      <td>60375288</td>\n",
       "    </tr>\n",
       "  </tbody>\n",
       "</table>\n",
       "</div>"
      ],
      "text/plain": [
       "                       timestamp  prior_questions_time  had_explanation\n",
       "answered_correctly                                                     \n",
       "0                   7.235711e+09          25641.992188         29310272\n",
       "1                   7.945270e+09          25309.976562         60375288"
      ]
     },
     "execution_count": 15,
     "metadata": {},
     "output_type": "execute_result"
    }
   ],
   "source": [
    "pd.DataFrame({'timestamp': df_train[df_train['answered_correctly'] != -1]['timestamp'].groupby(df_train['answered_correctly']).mean(),\n",
    "              'prior_questions_time': df_train[df_train['answered_correctly'] != -1]['prior_question_elapsed_time'].groupby(df_train['answered_correctly']).mean(),\n",
    "              'had_explanation': df_train[df_train['answered_correctly'] != -1]['prior_question_had_explanation'].groupby(df_train['answered_correctly']).sum()\n",
    "             }\n",
    "            )"
   ]
  },
  {
   "cell_type": "markdown",
   "id": "3853f8c3",
   "metadata": {},
   "source": [
    "Можно сделать следующие выводы:\n",
    "- чем ближе к началу сессии вопрос, тем менее успешно его проходят студенты\n",
    "- студенты, тратящие меньше времени на решение, чаще отвечают правильно\n",
    "- если студент видел объяснение предыдущий задачи, вероятность правильного ответа удваивается"
   ]
  },
  {
   "cell_type": "markdown",
   "id": "d9f4c657",
   "metadata": {},
   "source": [
    "#### Аналитика по студентам"
   ]
  },
  {
   "cell_type": "code",
   "execution_count": 18,
   "id": "d1867d60",
   "metadata": {},
   "outputs": [],
   "source": [
    "students_list = list(df_train['user_id'].unique())\n",
    "users_q = len(students_list)"
   ]
  },
  {
   "cell_type": "markdown",
   "id": "7412d1f7",
   "metadata": {},
   "source": [
    "Всего 393656 уникальных студентов"
   ]
  },
  {
   "cell_type": "markdown",
   "id": "162c8751",
   "metadata": {},
   "source": [
    "Сделаем выборку из всего списка студентов 300 уникальных и проанализируем их активность."
   ]
  },
  {
   "cell_type": "code",
   "execution_count": 19,
   "id": "234fe29f",
   "metadata": {},
   "outputs": [],
   "source": [
    "students_list = students_list[:300]"
   ]
  },
  {
   "cell_type": "markdown",
   "id": "39ea6bba",
   "metadata": {},
   "source": [
    "Посчитаем время на платформе для каждого студента"
   ]
  },
  {
   "cell_type": "code",
   "execution_count": 20,
   "id": "2add1ab4",
   "metadata": {},
   "outputs": [],
   "source": [
    "time = []\n",
    "for student in students_list:\n",
    "    t = df_train[df_train['user_id'] == student]['timestamp'].max()\n",
    "    time.append(t)"
   ]
  },
  {
   "cell_type": "markdown",
   "id": "04af8c3e",
   "metadata": {},
   "source": [
    "Количество отвеченных вопросов"
   ]
  },
  {
   "cell_type": "code",
   "execution_count": 21,
   "id": "017d26a5",
   "metadata": {},
   "outputs": [],
   "source": [
    "ques_quant = []\n",
    "for student in students_list:\n",
    "    q = df_train[(df_train['user_id'] == student) & (df_train['content_type_id'] == 0)]['content_type_id'].count()\n",
    "    ques_quant.append(q)"
   ]
  },
  {
   "cell_type": "markdown",
   "id": "d283e1ef",
   "metadata": {},
   "source": [
    "Cредний балл студента:"
   ]
  },
  {
   "cell_type": "code",
   "execution_count": 23,
   "id": "82cabfe7",
   "metadata": {},
   "outputs": [],
   "source": [
    "av_grade = []\n",
    "for student in students_list:\n",
    "    g = df_train[(df_train['user_id'] == student) & (df_train['answered_correctly'] != -1)]['answered_correctly'].mean()\n",
    "    av_grade.append(g)"
   ]
  },
  {
   "cell_type": "markdown",
   "id": "5edf5cd0",
   "metadata": {},
   "source": [
    "Количество просмотренных лекций"
   ]
  },
  {
   "cell_type": "code",
   "execution_count": 24,
   "id": "f5f2b5aa",
   "metadata": {},
   "outputs": [],
   "source": [
    "lec_watched = []\n",
    "for student in students_list:\n",
    "    l = df_train[df_train['user_id'] == student]['content_type_id'].sum()\n",
    "    lec_watched.append(l)"
   ]
  },
  {
   "cell_type": "markdown",
   "id": "3fdab15b",
   "metadata": {},
   "source": [
    "Количество введенных объяснений на предыдущие вопросы"
   ]
  },
  {
   "cell_type": "code",
   "execution_count": 25,
   "id": "be677ecf",
   "metadata": {},
   "outputs": [],
   "source": [
    "expl_watched = []\n",
    "for student in students_list:\n",
    "    e = df_train[df_train['user_id'] == student]['prior_question_had_explanation'].sum()\n",
    "    expl_watched.append(e)"
   ]
  },
  {
   "cell_type": "markdown",
   "id": "cb6305b8",
   "metadata": {},
   "source": [
    "Время, в среднем потраченное студентом на каждый вопрос:"
   ]
  },
  {
   "cell_type": "code",
   "execution_count": 26,
   "id": "e68553d4",
   "metadata": {},
   "outputs": [],
   "source": [
    "ques_time = []\n",
    "for student in students_list:\n",
    "    qt = df_train[(df_train['user_id'] == student)]['prior_question_elapsed_time'].mean()\n",
    "    ques_time.append(qt)"
   ]
  },
  {
   "cell_type": "markdown",
   "id": "de5ec21c",
   "metadata": {},
   "source": [
    "Запишем данные по 300 отобранным студентам в единую таблицу:"
   ]
  },
  {
   "cell_type": "code",
   "execution_count": 27,
   "id": "6850dd06",
   "metadata": {},
   "outputs": [],
   "source": [
    "students = pd.DataFrame({'user_id': students_list,\n",
    "                        'time': time,\n",
    "                        'ques_quant': ques_quant,\n",
    "                        'av_grade': av_grade,\n",
    "                        'lec_watched': lec_watched,\n",
    "                        'expl_watched': expl_watched,\n",
    "                         'ques_time': ques_time\n",
    "                       }\n",
    "                      )\n",
    "students = students.astype({'user_id': 'int32',\n",
    "                            'time': 'int64',\n",
    "                            'ques_quant': 'int16', \n",
    "                            'av_grade': 'float32',\n",
    "                            'lec_watched': 'int16',\n",
    "                            'expl_watched': 'int16',\n",
    "                            'ques_time': 'float32'\n",
    "                           })"
   ]
  },
  {
   "cell_type": "code",
   "execution_count": 28,
   "id": "2ea22eb1",
   "metadata": {},
   "outputs": [
    {
     "data": {
      "text/html": [
       "<div>\n",
       "<style scoped>\n",
       "    .dataframe tbody tr th:only-of-type {\n",
       "        vertical-align: middle;\n",
       "    }\n",
       "\n",
       "    .dataframe tbody tr th {\n",
       "        vertical-align: top;\n",
       "    }\n",
       "\n",
       "    .dataframe thead th {\n",
       "        text-align: right;\n",
       "    }\n",
       "</style>\n",
       "<table border=\"1\" class=\"dataframe\">\n",
       "  <thead>\n",
       "    <tr style=\"text-align: right;\">\n",
       "      <th></th>\n",
       "      <th>user_id</th>\n",
       "      <th>time</th>\n",
       "      <th>ques_quant</th>\n",
       "      <th>av_grade</th>\n",
       "      <th>lec_watched</th>\n",
       "      <th>expl_watched</th>\n",
       "      <th>ques_time</th>\n",
       "    </tr>\n",
       "  </thead>\n",
       "  <tbody>\n",
       "    <tr>\n",
       "      <th>0</th>\n",
       "      <td>115</td>\n",
       "      <td>668090043</td>\n",
       "      <td>46</td>\n",
       "      <td>0.695652</td>\n",
       "      <td>0</td>\n",
       "      <td>6</td>\n",
       "      <td>19933.310547</td>\n",
       "    </tr>\n",
       "    <tr>\n",
       "      <th>1</th>\n",
       "      <td>124</td>\n",
       "      <td>571323</td>\n",
       "      <td>30</td>\n",
       "      <td>0.233333</td>\n",
       "      <td>0</td>\n",
       "      <td>0</td>\n",
       "      <td>18793.000000</td>\n",
       "    </tr>\n",
       "    <tr>\n",
       "      <th>2</th>\n",
       "      <td>2746</td>\n",
       "      <td>835457</td>\n",
       "      <td>19</td>\n",
       "      <td>0.578947</td>\n",
       "      <td>1</td>\n",
       "      <td>11</td>\n",
       "      <td>18055.554688</td>\n",
       "    </tr>\n",
       "    <tr>\n",
       "      <th>3</th>\n",
       "      <td>5382</td>\n",
       "      <td>2101551456</td>\n",
       "      <td>125</td>\n",
       "      <td>0.672000</td>\n",
       "      <td>3</td>\n",
       "      <td>113</td>\n",
       "      <td>36048.386719</td>\n",
       "    </tr>\n",
       "    <tr>\n",
       "      <th>4</th>\n",
       "      <td>8623</td>\n",
       "      <td>862338736</td>\n",
       "      <td>109</td>\n",
       "      <td>0.642202</td>\n",
       "      <td>3</td>\n",
       "      <td>96</td>\n",
       "      <td>26107.408203</td>\n",
       "    </tr>\n",
       "    <tr>\n",
       "      <th>5</th>\n",
       "      <td>8701</td>\n",
       "      <td>1571291</td>\n",
       "      <td>17</td>\n",
       "      <td>0.588235</td>\n",
       "      <td>0</td>\n",
       "      <td>9</td>\n",
       "      <td>21375.000000</td>\n",
       "    </tr>\n",
       "    <tr>\n",
       "      <th>6</th>\n",
       "      <td>12741</td>\n",
       "      <td>4465486358</td>\n",
       "      <td>265</td>\n",
       "      <td>0.573585</td>\n",
       "      <td>6</td>\n",
       "      <td>250</td>\n",
       "      <td>39834.914062</td>\n",
       "    </tr>\n",
       "    <tr>\n",
       "      <th>7</th>\n",
       "      <td>13134</td>\n",
       "      <td>18122046414</td>\n",
       "      <td>1243</td>\n",
       "      <td>0.706356</td>\n",
       "      <td>7</td>\n",
       "      <td>1233</td>\n",
       "      <td>21621.433594</td>\n",
       "    </tr>\n",
       "    <tr>\n",
       "      <th>8</th>\n",
       "      <td>24418</td>\n",
       "      <td>14243735782</td>\n",
       "      <td>6283</td>\n",
       "      <td>0.690275</td>\n",
       "      <td>181</td>\n",
       "      <td>6251</td>\n",
       "      <td>21404.572266</td>\n",
       "    </tr>\n",
       "    <tr>\n",
       "      <th>9</th>\n",
       "      <td>24600</td>\n",
       "      <td>1550831</td>\n",
       "      <td>50</td>\n",
       "      <td>0.340000</td>\n",
       "      <td>0</td>\n",
       "      <td>19</td>\n",
       "      <td>22719.347656</td>\n",
       "    </tr>\n",
       "  </tbody>\n",
       "</table>\n",
       "</div>"
      ],
      "text/plain": [
       "   user_id         time  ques_quant  av_grade  lec_watched  expl_watched  \\\n",
       "0      115    668090043          46  0.695652            0             6   \n",
       "1      124       571323          30  0.233333            0             0   \n",
       "2     2746       835457          19  0.578947            1            11   \n",
       "3     5382   2101551456         125  0.672000            3           113   \n",
       "4     8623    862338736         109  0.642202            3            96   \n",
       "5     8701      1571291          17  0.588235            0             9   \n",
       "6    12741   4465486358         265  0.573585            6           250   \n",
       "7    13134  18122046414        1243  0.706356            7          1233   \n",
       "8    24418  14243735782        6283  0.690275          181          6251   \n",
       "9    24600      1550831          50  0.340000            0            19   \n",
       "\n",
       "      ques_time  \n",
       "0  19933.310547  \n",
       "1  18793.000000  \n",
       "2  18055.554688  \n",
       "3  36048.386719  \n",
       "4  26107.408203  \n",
       "5  21375.000000  \n",
       "6  39834.914062  \n",
       "7  21621.433594  \n",
       "8  21404.572266  \n",
       "9  22719.347656  "
      ]
     },
     "execution_count": 28,
     "metadata": {},
     "output_type": "execute_result"
    }
   ],
   "source": [
    "students.head(10)"
   ]
  },
  {
   "cell_type": "code",
   "execution_count": 29,
   "id": "38172497",
   "metadata": {},
   "outputs": [
    {
     "data": {
      "text/html": [
       "<div>\n",
       "<style scoped>\n",
       "    .dataframe tbody tr th:only-of-type {\n",
       "        vertical-align: middle;\n",
       "    }\n",
       "\n",
       "    .dataframe tbody tr th {\n",
       "        vertical-align: top;\n",
       "    }\n",
       "\n",
       "    .dataframe thead th {\n",
       "        text-align: right;\n",
       "    }\n",
       "</style>\n",
       "<table border=\"1\" class=\"dataframe\">\n",
       "  <thead>\n",
       "    <tr style=\"text-align: right;\">\n",
       "      <th></th>\n",
       "      <th>user_id</th>\n",
       "      <th>time</th>\n",
       "      <th>ques_quant</th>\n",
       "      <th>av_grade</th>\n",
       "      <th>lec_watched</th>\n",
       "      <th>expl_watched</th>\n",
       "      <th>ques_time</th>\n",
       "    </tr>\n",
       "  </thead>\n",
       "  <tbody>\n",
       "    <tr>\n",
       "      <th>count</th>\n",
       "      <td>3.000000e+02</td>\n",
       "      <td>3.000000e+02</td>\n",
       "      <td>300.000000</td>\n",
       "      <td>300.000000</td>\n",
       "      <td>300.000000</td>\n",
       "      <td>300.000000</td>\n",
       "      <td>300.000000</td>\n",
       "    </tr>\n",
       "    <tr>\n",
       "      <th>mean</th>\n",
       "      <td>8.864180e+05</td>\n",
       "      <td>5.051797e+09</td>\n",
       "      <td>271.770000</td>\n",
       "      <td>0.540567</td>\n",
       "      <td>4.646667</td>\n",
       "      <td>249.456667</td>\n",
       "      <td>23844.164062</td>\n",
       "    </tr>\n",
       "    <tr>\n",
       "      <th>std</th>\n",
       "      <td>5.359876e+05</td>\n",
       "      <td>9.986648e+09</td>\n",
       "      <td>794.462282</td>\n",
       "      <td>0.170348</td>\n",
       "      <td>15.970347</td>\n",
       "      <td>790.950464</td>\n",
       "      <td>7774.491699</td>\n",
       "    </tr>\n",
       "    <tr>\n",
       "      <th>min</th>\n",
       "      <td>1.150000e+02</td>\n",
       "      <td>5.737300e+04</td>\n",
       "      <td>7.000000</td>\n",
       "      <td>0.000000</td>\n",
       "      <td>0.000000</td>\n",
       "      <td>0.000000</td>\n",
       "      <td>1344.862061</td>\n",
       "    </tr>\n",
       "    <tr>\n",
       "      <th>25%</th>\n",
       "      <td>3.853472e+05</td>\n",
       "      <td>1.394032e+06</td>\n",
       "      <td>30.000000</td>\n",
       "      <td>0.426339</td>\n",
       "      <td>0.000000</td>\n",
       "      <td>9.000000</td>\n",
       "      <td>19280.315918</td>\n",
       "    </tr>\n",
       "    <tr>\n",
       "      <th>50%</th>\n",
       "      <td>9.056425e+05</td>\n",
       "      <td>4.896570e+08</td>\n",
       "      <td>47.000000</td>\n",
       "      <td>0.578046</td>\n",
       "      <td>0.000000</td>\n",
       "      <td>23.000000</td>\n",
       "      <td>22929.346680</td>\n",
       "    </tr>\n",
       "    <tr>\n",
       "      <th>75%</th>\n",
       "      <td>1.349270e+06</td>\n",
       "      <td>4.637351e+09</td>\n",
       "      <td>150.750000</td>\n",
       "      <td>0.663947</td>\n",
       "      <td>2.000000</td>\n",
       "      <td>127.000000</td>\n",
       "      <td>26735.916992</td>\n",
       "    </tr>\n",
       "    <tr>\n",
       "      <th>max</th>\n",
       "      <td>1.822782e+06</td>\n",
       "      <td>5.949531e+10</td>\n",
       "      <td>7476.000000</td>\n",
       "      <td>0.923077</td>\n",
       "      <td>181.000000</td>\n",
       "      <td>7465.000000</td>\n",
       "      <td>60351.351562</td>\n",
       "    </tr>\n",
       "  </tbody>\n",
       "</table>\n",
       "</div>"
      ],
      "text/plain": [
       "            user_id          time   ques_quant    av_grade  lec_watched  \\\n",
       "count  3.000000e+02  3.000000e+02   300.000000  300.000000   300.000000   \n",
       "mean   8.864180e+05  5.051797e+09   271.770000    0.540567     4.646667   \n",
       "std    5.359876e+05  9.986648e+09   794.462282    0.170348    15.970347   \n",
       "min    1.150000e+02  5.737300e+04     7.000000    0.000000     0.000000   \n",
       "25%    3.853472e+05  1.394032e+06    30.000000    0.426339     0.000000   \n",
       "50%    9.056425e+05  4.896570e+08    47.000000    0.578046     0.000000   \n",
       "75%    1.349270e+06  4.637351e+09   150.750000    0.663947     2.000000   \n",
       "max    1.822782e+06  5.949531e+10  7476.000000    0.923077   181.000000   \n",
       "\n",
       "       expl_watched     ques_time  \n",
       "count    300.000000    300.000000  \n",
       "mean     249.456667  23844.164062  \n",
       "std      790.950464   7774.491699  \n",
       "min        0.000000   1344.862061  \n",
       "25%        9.000000  19280.315918  \n",
       "50%       23.000000  22929.346680  \n",
       "75%      127.000000  26735.916992  \n",
       "max     7465.000000  60351.351562  "
      ]
     },
     "execution_count": 29,
     "metadata": {},
     "output_type": "execute_result"
    }
   ],
   "source": [
    "students.describe()"
   ]
  },
  {
   "cell_type": "markdown",
   "id": "b02e1fc7",
   "metadata": {},
   "source": [
    "#### Гистограма распределения средних оценок среди студентов"
   ]
  },
  {
   "cell_type": "code",
   "execution_count": 30,
   "id": "6c36b112",
   "metadata": {},
   "outputs": [
    {
     "name": "stderr",
     "output_type": "stream",
     "text": [
      "Matplotlib is building the font cache; this may take a moment.\n"
     ]
    },
    {
     "data": {
      "text/plain": [
       "<AxesSubplot:>"
      ]
     },
     "execution_count": 30,
     "metadata": {},
     "output_type": "execute_result"
    },
    {
     "data": {
      "image/png": "[encoded data removed]",
      "text/plain": [
       "<Figure size 432x288 with 1 Axes>"
      ]
     },
     "metadata": {
      "needs_background": "light"
     },
     "output_type": "display_data"
    }
   ],
   "source": [
    "students['av_grade'].hist(bins=20)"
   ]
  },
  {
   "cell_type": "markdown",
   "id": "a50e3652",
   "metadata": {},
   "source": [
    "### Исследуем questions.csv"
   ]
  },
  {
   "cell_type": "code",
   "execution_count": 31,
   "id": "93d417f9",
   "metadata": {},
   "outputs": [
    {
     "name": "stdout",
     "output_type": "stream",
     "text": [
      "<class 'pandas.core.frame.DataFrame'>\n",
      "RangeIndex: 13523 entries, 0 to 13522\n",
      "Data columns (total 5 columns):\n",
      " #   Column          Non-Null Count  Dtype \n",
      "---  ------          --------------  ----- \n",
      " 0   question_id     13523 non-null  int16 \n",
      " 1   bundle_id       13523 non-null  int16 \n",
      " 2   correct_answer  13523 non-null  int8  \n",
      " 3   part            13523 non-null  int8  \n",
      " 4   tags            13522 non-null  object\n",
      "dtypes: int16(2), int8(2), object(1)\n",
      "memory usage: 185.0+ KB\n"
     ]
    }
   ],
   "source": [
    "questions = pd.read_csv('questions.csv', sep=',',\n",
    "                        dtype = {'question_id': 'int16', 'bundle_id': 'int16', 'correct_answer': 'int8',\n",
    "                                 'part': 'int8', 'tags': 'object'\n",
    "                               })\n",
    "questions.info()"
   ]
  },
  {
   "cell_type": "code",
   "execution_count": 32,
   "id": "5cd5073f",
   "metadata": {},
   "outputs": [
    {
     "data": {
      "text/html": [
       "<div>\n",
       "<style scoped>\n",
       "    .dataframe tbody tr th:only-of-type {\n",
       "        vertical-align: middle;\n",
       "    }\n",
       "\n",
       "    .dataframe tbody tr th {\n",
       "        vertical-align: top;\n",
       "    }\n",
       "\n",
       "    .dataframe thead th {\n",
       "        text-align: right;\n",
       "    }\n",
       "</style>\n",
       "<table border=\"1\" class=\"dataframe\">\n",
       "  <thead>\n",
       "    <tr style=\"text-align: right;\">\n",
       "      <th></th>\n",
       "      <th>Column_Name</th>\n",
       "      <th>Num_Unique</th>\n",
       "      <th>Type</th>\n",
       "    </tr>\n",
       "  </thead>\n",
       "  <tbody>\n",
       "    <tr>\n",
       "      <th>0</th>\n",
       "      <td>correct_answer</td>\n",
       "      <td>4</td>\n",
       "      <td>int8</td>\n",
       "    </tr>\n",
       "    <tr>\n",
       "      <th>1</th>\n",
       "      <td>part</td>\n",
       "      <td>7</td>\n",
       "      <td>int8</td>\n",
       "    </tr>\n",
       "    <tr>\n",
       "      <th>2</th>\n",
       "      <td>tags</td>\n",
       "      <td>1519</td>\n",
       "      <td>object</td>\n",
       "    </tr>\n",
       "    <tr>\n",
       "      <th>3</th>\n",
       "      <td>bundle_id</td>\n",
       "      <td>9765</td>\n",
       "      <td>int16</td>\n",
       "    </tr>\n",
       "    <tr>\n",
       "      <th>4</th>\n",
       "      <td>question_id</td>\n",
       "      <td>13523</td>\n",
       "      <td>int16</td>\n",
       "    </tr>\n",
       "  </tbody>\n",
       "</table>\n",
       "</div>"
      ],
      "text/plain": [
       "      Column_Name  Num_Unique    Type\n",
       "0  correct_answer           4    int8\n",
       "1            part           7    int8\n",
       "2            tags        1519  object\n",
       "3       bundle_id        9765   int16\n",
       "4     question_id       13523   int16"
      ]
     },
     "metadata": {},
     "output_type": "display_data"
    }
   ],
   "source": [
    "unique_list_q = []\n",
    "for col in questions.columns:\n",
    "    item = (col, questions[col].nunique(), questions[col].dtype)\n",
    "    unique_list_q.append(item)\n",
    "unique_counts_q = pd.DataFrame(unique_list_q,\n",
    "                               columns=['Column_Name', 'Num_Unique', 'Type']\n",
    "                              ).sort_values(by='Num_Unique',  ignore_index=True)\n",
    "display(unique_counts_q)"
   ]
  },
  {
   "cell_type": "code",
   "execution_count": 33,
   "id": "839abe1b",
   "metadata": {},
   "outputs": [
    {
     "data": {
      "text/plain": [
       "count     13522\n",
       "unique     1519\n",
       "top           8\n",
       "freq        738\n",
       "Name: tags, dtype: object"
      ]
     },
     "execution_count": 33,
     "metadata": {},
     "output_type": "execute_result"
    }
   ],
   "source": [
    "questions['question_id'].groupby(questions['bundle_id']).count().max()\n",
    "questions['part'].value_counts(normalize=True)\n",
    "questions['tags'].describe()"
   ]
  },
  {
   "cell_type": "markdown",
   "id": "ff30b72b",
   "metadata": {},
   "source": [
    "- Часть вопросов объединены по bundle_id в блоки до 5 вопросов, хотя большинство представлены по одиночке\n",
    "- Задачи разделены по темам на 7 разделов, больше всего посвящено 5му разделу, 2, 3 и 4"
   ]
  },
  {
   "cell_type": "code",
   "execution_count": 34,
   "id": "64cddb56",
   "metadata": {},
   "outputs": [
    {
     "data": {
      "text/plain": [
       "188"
      ]
     },
     "execution_count": 34,
     "metadata": {},
     "output_type": "execute_result"
    }
   ],
   "source": [
    "q_tags = set()\n",
    "for tag in questions['tags']:\n",
    "    try:\n",
    "        for t in tag.split():\n",
    "                q_tags.add(int(t))\n",
    "    except:\n",
    "        q_tags.add(int(t))\n",
    "len(q_tags)"
   ]
  },
  {
   "cell_type": "markdown",
   "id": "977e319b",
   "metadata": {},
   "source": [
    "Можно провести доп исследование вопросов, используя кластеризацию по 188 доп.признакам 'tags'"
   ]
  },
  {
   "cell_type": "code",
   "execution_count": 35,
   "id": "f3087fc5",
   "metadata": {},
   "outputs": [],
   "source": [
    "tmp_df = df_train.loc[(df_train.content_type_id == 0), ['content_id', 'answered_correctly']]"
   ]
  },
  {
   "cell_type": "code",
   "execution_count": 36,
   "id": "561f5b40",
   "metadata": {},
   "outputs": [
    {
     "data": {
      "text/plain": [
       "13523"
      ]
     },
     "execution_count": 36,
     "metadata": {},
     "output_type": "execute_result"
    }
   ],
   "source": [
    "q_list = list(tmp_df['content_id'].unique())\n",
    "len(q_list)"
   ]
  },
  {
   "cell_type": "markdown",
   "id": "6f43c9af",
   "metadata": {},
   "source": [
    "Всего 13523 уникальных вопросов. Мы берем этот список из файла Train, чтобы иметь правильный порядок данных"
   ]
  },
  {
   "cell_type": "markdown",
   "id": "43a6c1bf",
   "metadata": {},
   "source": [
    "Столбцы :\n",
    "- q_quant - общее количество ответов для каждого id\n",
    "- correct_quant - количество правильных ответов для каждого id"
   ]
  },
  {
   "cell_type": "code",
   "execution_count": 38,
   "id": "a74172f2",
   "metadata": {},
   "outputs": [],
   "source": [
    "q_quant = []\n",
    "correct_quant = []\n",
    "for q in q_list:\n",
    "    tmp = tmp_df[tmp_df['content_id'] == q]['answered_correctly'].count()\n",
    "    tmp1 = tmp_df[tmp_df['content_id'] == q]['answered_correctly'].sum()\n",
    "    q_quant.append(tmp)\n",
    "    correct_quant.append(tmp1)"
   ]
  },
  {
   "cell_type": "markdown",
   "id": "9067f595",
   "metadata": {},
   "source": [
    "Запишем полученные данные в единую таблицу"
   ]
  },
  {
   "cell_type": "code",
   "execution_count": 39,
   "id": "b61f0ac9",
   "metadata": {},
   "outputs": [],
   "source": [
    "q_ex = pd.DataFrame({'question_id': q_list,\n",
    "                        'q_quant': q_quant,\n",
    "                        'correct_quant': correct_quant\n",
    "                       }\n",
    "                      )\n",
    "q_ex = q_ex.astype({'question_id': 'int16', 'q_quant': 'int32', 'correct_quant': 'int32'})"
   ]
  },
  {
   "cell_type": "code",
   "execution_count": 40,
   "id": "2691cc64",
   "metadata": {},
   "outputs": [
    {
     "data": {
      "text/html": [
       "<div>\n",
       "<style scoped>\n",
       "    .dataframe tbody tr th:only-of-type {\n",
       "        vertical-align: middle;\n",
       "    }\n",
       "\n",
       "    .dataframe tbody tr th {\n",
       "        vertical-align: top;\n",
       "    }\n",
       "\n",
       "    .dataframe thead th {\n",
       "        text-align: right;\n",
       "    }\n",
       "</style>\n",
       "<table border=\"1\" class=\"dataframe\">\n",
       "  <thead>\n",
       "    <tr style=\"text-align: right;\">\n",
       "      <th></th>\n",
       "      <th>question_id</th>\n",
       "      <th>bundle_id</th>\n",
       "      <th>part</th>\n",
       "      <th>q_quant</th>\n",
       "      <th>correct_quant</th>\n",
       "      <th>correct_percent</th>\n",
       "    </tr>\n",
       "  </thead>\n",
       "  <tbody>\n",
       "    <tr>\n",
       "      <th>count</th>\n",
       "      <td>13523.00000</td>\n",
       "      <td>13523.000000</td>\n",
       "      <td>13523.000000</td>\n",
       "      <td>13523.000000</td>\n",
       "      <td>13523.000000</td>\n",
       "      <td>13523.000000</td>\n",
       "    </tr>\n",
       "    <tr>\n",
       "      <th>mean</th>\n",
       "      <td>6761.00000</td>\n",
       "      <td>6760.510907</td>\n",
       "      <td>4.264956</td>\n",
       "      <td>7340.922872</td>\n",
       "      <td>4824.715448</td>\n",
       "      <td>0.709460</td>\n",
       "    </tr>\n",
       "    <tr>\n",
       "      <th>std</th>\n",
       "      <td>3903.89818</td>\n",
       "      <td>3903.857783</td>\n",
       "      <td>1.652553</td>\n",
       "      <td>11455.927774</td>\n",
       "      <td>6419.482619</td>\n",
       "      <td>0.164486</td>\n",
       "    </tr>\n",
       "    <tr>\n",
       "      <th>min</th>\n",
       "      <td>0.00000</td>\n",
       "      <td>0.000000</td>\n",
       "      <td>1.000000</td>\n",
       "      <td>1.000000</td>\n",
       "      <td>0.000000</td>\n",
       "      <td>0.000000</td>\n",
       "    </tr>\n",
       "    <tr>\n",
       "      <th>25%</th>\n",
       "      <td>3380.50000</td>\n",
       "      <td>3379.500000</td>\n",
       "      <td>3.000000</td>\n",
       "      <td>1765.500000</td>\n",
       "      <td>1274.000000</td>\n",
       "      <td>0.609345</td>\n",
       "    </tr>\n",
       "    <tr>\n",
       "      <th>50%</th>\n",
       "      <td>6761.00000</td>\n",
       "      <td>6761.000000</td>\n",
       "      <td>5.000000</td>\n",
       "      <td>4732.000000</td>\n",
       "      <td>3236.000000</td>\n",
       "      <td>0.734215</td>\n",
       "    </tr>\n",
       "    <tr>\n",
       "      <th>75%</th>\n",
       "      <td>10141.50000</td>\n",
       "      <td>10140.000000</td>\n",
       "      <td>5.000000</td>\n",
       "      <td>8556.000000</td>\n",
       "      <td>5877.500000</td>\n",
       "      <td>0.835116</td>\n",
       "    </tr>\n",
       "    <tr>\n",
       "      <th>max</th>\n",
       "      <td>13522.00000</td>\n",
       "      <td>13522.000000</td>\n",
       "      <td>7.000000</td>\n",
       "      <td>213605.000000</td>\n",
       "      <td>149422.000000</td>\n",
       "      <td>1.000000</td>\n",
       "    </tr>\n",
       "  </tbody>\n",
       "</table>\n",
       "</div>"
      ],
      "text/plain": [
       "       question_id     bundle_id          part        q_quant  correct_quant  \\\n",
       "count  13523.00000  13523.000000  13523.000000   13523.000000   13523.000000   \n",
       "mean    6761.00000   6760.510907      4.264956    7340.922872    4824.715448   \n",
       "std     3903.89818   3903.857783      1.652553   11455.927774    6419.482619   \n",
       "min        0.00000      0.000000      1.000000       1.000000       0.000000   \n",
       "25%     3380.50000   3379.500000      3.000000    1765.500000    1274.000000   \n",
       "50%     6761.00000   6761.000000      5.000000    4732.000000    3236.000000   \n",
       "75%    10141.50000  10140.000000      5.000000    8556.000000    5877.500000   \n",
       "max    13522.00000  13522.000000      7.000000  213605.000000  149422.000000   \n",
       "\n",
       "       correct_percent  \n",
       "count     13523.000000  \n",
       "mean          0.709460  \n",
       "std           0.164486  \n",
       "min           0.000000  \n",
       "25%           0.609345  \n",
       "50%           0.734215  \n",
       "75%           0.835116  \n",
       "max           1.000000  "
      ]
     },
     "execution_count": 40,
     "metadata": {},
     "output_type": "execute_result"
    }
   ],
   "source": [
    "questions = questions.drop('correct_answer', axis=1)\n",
    "questions = pd.merge(questions, q_ex, how='inner')\n",
    "questions['correct_percent'] = questions['correct_quant'] / questions['q_quant']\n",
    "questions.describe()"
   ]
  },
  {
   "cell_type": "code",
   "execution_count": 41,
   "id": "ce5dfb63",
   "metadata": {},
   "outputs": [
    {
     "data": {
      "text/html": [
       "<div>\n",
       "<style scoped>\n",
       "    .dataframe tbody tr th:only-of-type {\n",
       "        vertical-align: middle;\n",
       "    }\n",
       "\n",
       "    .dataframe tbody tr th {\n",
       "        vertical-align: top;\n",
       "    }\n",
       "\n",
       "    .dataframe thead th {\n",
       "        text-align: right;\n",
       "    }\n",
       "</style>\n",
       "<table border=\"1\" class=\"dataframe\">\n",
       "  <thead>\n",
       "    <tr style=\"text-align: right;\">\n",
       "      <th></th>\n",
       "      <th>question_id</th>\n",
       "      <th>bundle_id</th>\n",
       "      <th>part</th>\n",
       "      <th>tags</th>\n",
       "      <th>q_quant</th>\n",
       "      <th>correct_quant</th>\n",
       "      <th>correct_percent</th>\n",
       "    </tr>\n",
       "  </thead>\n",
       "  <tbody>\n",
       "    <tr>\n",
       "      <th>0</th>\n",
       "      <td>0</td>\n",
       "      <td>0</td>\n",
       "      <td>1</td>\n",
       "      <td>51 131 162 38</td>\n",
       "      <td>6903</td>\n",
       "      <td>6266</td>\n",
       "      <td>0.907721</td>\n",
       "    </tr>\n",
       "    <tr>\n",
       "      <th>1</th>\n",
       "      <td>1</td>\n",
       "      <td>1</td>\n",
       "      <td>1</td>\n",
       "      <td>131 36 81</td>\n",
       "      <td>7398</td>\n",
       "      <td>6589</td>\n",
       "      <td>0.890646</td>\n",
       "    </tr>\n",
       "    <tr>\n",
       "      <th>2</th>\n",
       "      <td>2</td>\n",
       "      <td>2</td>\n",
       "      <td>1</td>\n",
       "      <td>131 101 162 92</td>\n",
       "      <td>44905</td>\n",
       "      <td>24890</td>\n",
       "      <td>0.554281</td>\n",
       "    </tr>\n",
       "    <tr>\n",
       "      <th>3</th>\n",
       "      <td>3</td>\n",
       "      <td>3</td>\n",
       "      <td>1</td>\n",
       "      <td>131 149 162 29</td>\n",
       "      <td>22973</td>\n",
       "      <td>17906</td>\n",
       "      <td>0.779437</td>\n",
       "    </tr>\n",
       "    <tr>\n",
       "      <th>4</th>\n",
       "      <td>4</td>\n",
       "      <td>4</td>\n",
       "      <td>1</td>\n",
       "      <td>131 5 162 38</td>\n",
       "      <td>31736</td>\n",
       "      <td>19461</td>\n",
       "      <td>0.613215</td>\n",
       "    </tr>\n",
       "    <tr>\n",
       "      <th>...</th>\n",
       "      <td>...</td>\n",
       "      <td>...</td>\n",
       "      <td>...</td>\n",
       "      <td>...</td>\n",
       "      <td>...</td>\n",
       "      <td>...</td>\n",
       "      <td>...</td>\n",
       "    </tr>\n",
       "    <tr>\n",
       "      <th>13518</th>\n",
       "      <td>13518</td>\n",
       "      <td>13518</td>\n",
       "      <td>5</td>\n",
       "      <td>14</td>\n",
       "      <td>868</td>\n",
       "      <td>683</td>\n",
       "      <td>0.786866</td>\n",
       "    </tr>\n",
       "    <tr>\n",
       "      <th>13519</th>\n",
       "      <td>13519</td>\n",
       "      <td>13519</td>\n",
       "      <td>5</td>\n",
       "      <td>8</td>\n",
       "      <td>924</td>\n",
       "      <td>528</td>\n",
       "      <td>0.571429</td>\n",
       "    </tr>\n",
       "    <tr>\n",
       "      <th>13520</th>\n",
       "      <td>13520</td>\n",
       "      <td>13520</td>\n",
       "      <td>5</td>\n",
       "      <td>73</td>\n",
       "      <td>861</td>\n",
       "      <td>579</td>\n",
       "      <td>0.672474</td>\n",
       "    </tr>\n",
       "    <tr>\n",
       "      <th>13521</th>\n",
       "      <td>13521</td>\n",
       "      <td>13521</td>\n",
       "      <td>5</td>\n",
       "      <td>125</td>\n",
       "      <td>870</td>\n",
       "      <td>703</td>\n",
       "      <td>0.808046</td>\n",
       "    </tr>\n",
       "    <tr>\n",
       "      <th>13522</th>\n",
       "      <td>13522</td>\n",
       "      <td>13522</td>\n",
       "      <td>5</td>\n",
       "      <td>55</td>\n",
       "      <td>860</td>\n",
       "      <td>786</td>\n",
       "      <td>0.913953</td>\n",
       "    </tr>\n",
       "  </tbody>\n",
       "</table>\n",
       "<p>13523 rows × 7 columns</p>\n",
       "</div>"
      ],
      "text/plain": [
       "       question_id  bundle_id  part            tags  q_quant  correct_quant  \\\n",
       "0                0          0     1   51 131 162 38     6903           6266   \n",
       "1                1          1     1       131 36 81     7398           6589   \n",
       "2                2          2     1  131 101 162 92    44905          24890   \n",
       "3                3          3     1  131 149 162 29    22973          17906   \n",
       "4                4          4     1    131 5 162 38    31736          19461   \n",
       "...            ...        ...   ...             ...      ...            ...   \n",
       "13518        13518      13518     5              14      868            683   \n",
       "13519        13519      13519     5               8      924            528   \n",
       "13520        13520      13520     5              73      861            579   \n",
       "13521        13521      13521     5             125      870            703   \n",
       "13522        13522      13522     5              55      860            786   \n",
       "\n",
       "       correct_percent  \n",
       "0             0.907721  \n",
       "1             0.890646  \n",
       "2             0.554281  \n",
       "3             0.779437  \n",
       "4             0.613215  \n",
       "...                ...  \n",
       "13518         0.786866  \n",
       "13519         0.571429  \n",
       "13520         0.672474  \n",
       "13521         0.808046  \n",
       "13522         0.913953  \n",
       "\n",
       "[13523 rows x 7 columns]"
      ]
     },
     "execution_count": 41,
     "metadata": {},
     "output_type": "execute_result"
    }
   ],
   "source": [
    "questions"
   ]
  },
  {
   "cell_type": "markdown",
   "id": "528e29ef",
   "metadata": {},
   "source": [
    "- По мере продвижения по разделам, видимо, сложность курса возрастает. \n",
    "- 5й раздел содержит максимальное число леций и заданий, однако средняя успеваемость студентов для него самая низкая."
   ]
  },
  {
   "cell_type": "markdown",
   "id": "25bfdef8",
   "metadata": {},
   "source": [
    "### Исследуем lectures.csv"
   ]
  },
  {
   "cell_type": "code",
   "execution_count": 42,
   "id": "ae9b758f",
   "metadata": {},
   "outputs": [
    {
     "name": "stdout",
     "output_type": "stream",
     "text": [
      "<class 'pandas.core.frame.DataFrame'>\n",
      "RangeIndex: 418 entries, 0 to 417\n",
      "Data columns (total 4 columns):\n",
      " #   Column      Non-Null Count  Dtype \n",
      "---  ------      --------------  ----- \n",
      " 0   lecture_id  418 non-null    int16 \n",
      " 1   tag         418 non-null    int16 \n",
      " 2   part        418 non-null    int8  \n",
      " 3   type_of     418 non-null    object\n",
      "dtypes: int16(2), int8(1), object(1)\n",
      "memory usage: 5.4+ KB\n"
     ]
    }
   ],
   "source": [
    "lectures = pd.read_csv('lectures.csv', sep=',',\n",
    "                      dtype = {'lecture_id': 'int16', 'tag': 'int16', \n",
    "                               'part': 'int8', 'type_of': 'object'})\n",
    "lectures.info()"
   ]
  },
  {
   "cell_type": "code",
   "execution_count": 43,
   "id": "085627da",
   "metadata": {},
   "outputs": [
    {
     "data": {
      "text/html": [
       "<div>\n",
       "<style scoped>\n",
       "    .dataframe tbody tr th:only-of-type {\n",
       "        vertical-align: middle;\n",
       "    }\n",
       "\n",
       "    .dataframe tbody tr th {\n",
       "        vertical-align: top;\n",
       "    }\n",
       "\n",
       "    .dataframe thead th {\n",
       "        text-align: right;\n",
       "    }\n",
       "</style>\n",
       "<table border=\"1\" class=\"dataframe\">\n",
       "  <thead>\n",
       "    <tr style=\"text-align: right;\">\n",
       "      <th></th>\n",
       "      <th>Column_Name</th>\n",
       "      <th>Num_Unique</th>\n",
       "      <th>Type</th>\n",
       "    </tr>\n",
       "  </thead>\n",
       "  <tbody>\n",
       "    <tr>\n",
       "      <th>0</th>\n",
       "      <td>type_of</td>\n",
       "      <td>4</td>\n",
       "      <td>object</td>\n",
       "    </tr>\n",
       "    <tr>\n",
       "      <th>1</th>\n",
       "      <td>part</td>\n",
       "      <td>7</td>\n",
       "      <td>int8</td>\n",
       "    </tr>\n",
       "    <tr>\n",
       "      <th>2</th>\n",
       "      <td>tag</td>\n",
       "      <td>151</td>\n",
       "      <td>int16</td>\n",
       "    </tr>\n",
       "    <tr>\n",
       "      <th>3</th>\n",
       "      <td>lecture_id</td>\n",
       "      <td>418</td>\n",
       "      <td>int16</td>\n",
       "    </tr>\n",
       "  </tbody>\n",
       "</table>\n",
       "</div>"
      ],
      "text/plain": [
       "  Column_Name  Num_Unique    Type\n",
       "0     type_of           4  object\n",
       "1        part           7    int8\n",
       "2         tag         151   int16\n",
       "3  lecture_id         418   int16"
      ]
     },
     "metadata": {},
     "output_type": "display_data"
    }
   ],
   "source": [
    "unique_list_lec = []\n",
    "for col in lectures.columns:\n",
    "    item = (col, lectures[col].nunique(), lectures[col].dtype)\n",
    "    unique_list_lec.append(item)\n",
    "unique_counts_lec = pd.DataFrame(unique_list_lec,\n",
    "                                 columns=['Column_Name', 'Num_Unique', 'Type']\n",
    "                                ).sort_values(by='Num_Unique',  ignore_index=True)\n",
    "display(unique_counts_lec)"
   ]
  },
  {
   "cell_type": "markdown",
   "id": "2949af51",
   "metadata": {},
   "source": [
    "- Лекции разделены по темам на 7 разделов, больше всего лекций посвящено 5му разделу, затем 6, 2 и 1\n",
    "- С учетом данных по вопросам, можно прийти к заключению, что 5 раздел - самый насыщенный по материалу,\n",
    "- 6 и 1 - более теоретические, а 3 и 4 - более прикладные.\n",
    "- Леции бывают 4 типов: вступление, целеполагание, концептуальное изложение материала и решение задач.\n",
    "- Большинство лекций посвящены теории, немного меньше - решению задач. Доля остальных несущественна.\n",
    "- Есть 151 доп.тип лекций, по которым можно провести кластеризацию"
   ]
  },
  {
   "cell_type": "code",
   "execution_count": 44,
   "id": "16d4ab0a",
   "metadata": {},
   "outputs": [
    {
     "data": {
      "text/plain": [
       "136    7\n",
       "27     6\n",
       "161    6\n",
       "74     6\n",
       "134    6\n",
       "Name: tag, dtype: int64"
      ]
     },
     "execution_count": 44,
     "metadata": {},
     "output_type": "execute_result"
    }
   ],
   "source": [
    "lectures['part'].value_counts(normalize=True)\n",
    "lectures['type_of'].value_counts(normalize=True)\n",
    "lectures['tag'].value_counts().head()"
   ]
  },
  {
   "cell_type": "markdown",
   "id": "65e9fa3b",
   "metadata": {},
   "source": [
    "Найдем количество уникальных значений"
   ]
  },
  {
   "cell_type": "code",
   "execution_count": 45,
   "id": "239c9fd7",
   "metadata": {},
   "outputs": [
    {
     "data": {
      "text/plain": [
       "415"
      ]
     },
     "execution_count": 45,
     "metadata": {},
     "output_type": "execute_result"
    }
   ],
   "source": [
    "l_list = list(df_train[df_train['content_type_id'] == 1]['content_id'].unique())\n",
    "len(l_list)"
   ]
  },
  {
   "cell_type": "markdown",
   "id": "3d189540",
   "metadata": {},
   "source": [
    "Посчитаем количество просмотров лекций для каждого id"
   ]
  },
  {
   "cell_type": "code",
   "execution_count": 46,
   "id": "b82e0709",
   "metadata": {},
   "outputs": [],
   "source": [
    "l_quant = []\n",
    "for l in l_list:\n",
    "    tmp_l = df_train[(df_train['content_id'] == l)]['content_id'].count()\n",
    "    l_quant.append(tmp_l)"
   ]
  },
  {
   "cell_type": "code",
   "execution_count": 47,
   "id": "10cf1604",
   "metadata": {},
   "outputs": [
    {
     "data": {
      "text/html": [
       "<div>\n",
       "<style scoped>\n",
       "    .dataframe tbody tr th:only-of-type {\n",
       "        vertical-align: middle;\n",
       "    }\n",
       "\n",
       "    .dataframe tbody tr th {\n",
       "        vertical-align: top;\n",
       "    }\n",
       "\n",
       "    .dataframe thead th {\n",
       "        text-align: right;\n",
       "    }\n",
       "</style>\n",
       "<table border=\"1\" class=\"dataframe\">\n",
       "  <thead>\n",
       "    <tr style=\"text-align: right;\">\n",
       "      <th></th>\n",
       "      <th>lecture_id</th>\n",
       "      <th>tag</th>\n",
       "      <th>part</th>\n",
       "      <th>type_of</th>\n",
       "      <th>l_quant</th>\n",
       "    </tr>\n",
       "  </thead>\n",
       "  <tbody>\n",
       "    <tr>\n",
       "      <th>0</th>\n",
       "      <td>89</td>\n",
       "      <td>159</td>\n",
       "      <td>5</td>\n",
       "      <td>concept</td>\n",
       "      <td>24468</td>\n",
       "    </tr>\n",
       "    <tr>\n",
       "      <th>1</th>\n",
       "      <td>100</td>\n",
       "      <td>70</td>\n",
       "      <td>1</td>\n",
       "      <td>concept</td>\n",
       "      <td>18284</td>\n",
       "    </tr>\n",
       "    <tr>\n",
       "      <th>2</th>\n",
       "      <td>185</td>\n",
       "      <td>45</td>\n",
       "      <td>6</td>\n",
       "      <td>concept</td>\n",
       "      <td>47470</td>\n",
       "    </tr>\n",
       "    <tr>\n",
       "      <th>3</th>\n",
       "      <td>192</td>\n",
       "      <td>79</td>\n",
       "      <td>5</td>\n",
       "      <td>solving question</td>\n",
       "      <td>11073</td>\n",
       "    </tr>\n",
       "    <tr>\n",
       "      <th>4</th>\n",
       "      <td>317</td>\n",
       "      <td>156</td>\n",
       "      <td>5</td>\n",
       "      <td>solving question</td>\n",
       "      <td>11161</td>\n",
       "    </tr>\n",
       "    <tr>\n",
       "      <th>...</th>\n",
       "      <td>...</td>\n",
       "      <td>...</td>\n",
       "      <td>...</td>\n",
       "      <td>...</td>\n",
       "      <td>...</td>\n",
       "    </tr>\n",
       "    <tr>\n",
       "      <th>410</th>\n",
       "      <td>32535</td>\n",
       "      <td>8</td>\n",
       "      <td>5</td>\n",
       "      <td>solving question</td>\n",
       "      <td>3666</td>\n",
       "    </tr>\n",
       "    <tr>\n",
       "      <th>411</th>\n",
       "      <td>32570</td>\n",
       "      <td>113</td>\n",
       "      <td>3</td>\n",
       "      <td>solving question</td>\n",
       "      <td>2910</td>\n",
       "    </tr>\n",
       "    <tr>\n",
       "      <th>412</th>\n",
       "      <td>32604</td>\n",
       "      <td>24</td>\n",
       "      <td>6</td>\n",
       "      <td>concept</td>\n",
       "      <td>4</td>\n",
       "    </tr>\n",
       "    <tr>\n",
       "      <th>413</th>\n",
       "      <td>32625</td>\n",
       "      <td>142</td>\n",
       "      <td>2</td>\n",
       "      <td>concept</td>\n",
       "      <td>8031</td>\n",
       "    </tr>\n",
       "    <tr>\n",
       "      <th>414</th>\n",
       "      <td>32736</td>\n",
       "      <td>82</td>\n",
       "      <td>3</td>\n",
       "      <td>concept</td>\n",
       "      <td>8013</td>\n",
       "    </tr>\n",
       "  </tbody>\n",
       "</table>\n",
       "<p>415 rows × 5 columns</p>\n",
       "</div>"
      ],
      "text/plain": [
       "     lecture_id  tag  part           type_of  l_quant\n",
       "0            89  159     5           concept    24468\n",
       "1           100   70     1           concept    18284\n",
       "2           185   45     6           concept    47470\n",
       "3           192   79     5  solving question    11073\n",
       "4           317  156     5  solving question    11161\n",
       "..          ...  ...   ...               ...      ...\n",
       "410       32535    8     5  solving question     3666\n",
       "411       32570  113     3  solving question     2910\n",
       "412       32604   24     6           concept        4\n",
       "413       32625  142     2           concept     8031\n",
       "414       32736   82     3           concept     8013\n",
       "\n",
       "[415 rows x 5 columns]"
      ]
     },
     "metadata": {},
     "output_type": "display_data"
    }
   ],
   "source": [
    "l_ex = pd.DataFrame({'lecture_id': l_list,\n",
    "                        'l_quant': l_quant\n",
    "                       }\n",
    "                      )\n",
    "l_ex = l_ex.astype({'lecture_id': 'int16', 'l_quant': 'int32'})\n",
    "lectures = pd.merge(lectures, l_ex, how='inner')\n",
    "display(lectures)"
   ]
  },
  {
   "cell_type": "markdown",
   "id": "36d11407",
   "metadata": {},
   "source": [
    "Общий рейтинг популярности для лекций"
   ]
  },
  {
   "cell_type": "code",
   "execution_count": 48,
   "id": "fa728149",
   "metadata": {},
   "outputs": [
    {
     "data": {
      "text/html": [
       "<div>\n",
       "<style scoped>\n",
       "    .dataframe tbody tr th:only-of-type {\n",
       "        vertical-align: middle;\n",
       "    }\n",
       "\n",
       "    .dataframe tbody tr th {\n",
       "        vertical-align: top;\n",
       "    }\n",
       "\n",
       "    .dataframe thead th {\n",
       "        text-align: right;\n",
       "    }\n",
       "</style>\n",
       "<table border=\"1\" class=\"dataframe\">\n",
       "  <thead>\n",
       "    <tr style=\"text-align: right;\">\n",
       "      <th></th>\n",
       "      <th>lecture_id</th>\n",
       "      <th>tag</th>\n",
       "      <th>part</th>\n",
       "      <th>type_of</th>\n",
       "      <th>l_quant</th>\n",
       "    </tr>\n",
       "  </thead>\n",
       "  <tbody>\n",
       "    <tr>\n",
       "      <th>124</th>\n",
       "      <td>10688</td>\n",
       "      <td>39</td>\n",
       "      <td>7</td>\n",
       "      <td>concept</td>\n",
       "      <td>133046</td>\n",
       "    </tr>\n",
       "    <tr>\n",
       "      <th>5</th>\n",
       "      <td>335</td>\n",
       "      <td>114</td>\n",
       "      <td>2</td>\n",
       "      <td>concept</td>\n",
       "      <td>60616</td>\n",
       "    </tr>\n",
       "    <tr>\n",
       "      <th>44</th>\n",
       "      <td>3852</td>\n",
       "      <td>161</td>\n",
       "      <td>4</td>\n",
       "      <td>solving question</td>\n",
       "      <td>57766</td>\n",
       "    </tr>\n",
       "    <tr>\n",
       "      <th>2</th>\n",
       "      <td>185</td>\n",
       "      <td>45</td>\n",
       "      <td>6</td>\n",
       "      <td>concept</td>\n",
       "      <td>47470</td>\n",
       "    </tr>\n",
       "    <tr>\n",
       "      <th>62</th>\n",
       "      <td>5694</td>\n",
       "      <td>140</td>\n",
       "      <td>2</td>\n",
       "      <td>concept</td>\n",
       "      <td>46255</td>\n",
       "    </tr>\n",
       "  </tbody>\n",
       "</table>\n",
       "</div>"
      ],
      "text/plain": [
       "     lecture_id  tag  part           type_of  l_quant\n",
       "124       10688   39     7           concept   133046\n",
       "5           335  114     2           concept    60616\n",
       "44         3852  161     4  solving question    57766\n",
       "2           185   45     6           concept    47470\n",
       "62         5694  140     2           concept    46255"
      ]
     },
     "execution_count": 48,
     "metadata": {},
     "output_type": "execute_result"
    }
   ],
   "source": [
    "lectures.sort_values(by=['l_quant'], ascending=False).head()"
   ]
  },
  {
   "cell_type": "markdown",
   "id": "c86a9b9f",
   "metadata": {},
   "source": [
    "Рейтинг популярности для лекций, в зависимости от раздела"
   ]
  },
  {
   "cell_type": "code",
   "execution_count": 49,
   "id": "e6d691c2",
   "metadata": {},
   "outputs": [
    {
     "data": {
      "text/plain": [
       "part\n",
       "5    1231941\n",
       "2     565635\n",
       "6     493644\n",
       "1     354329\n",
       "7     256938\n",
       "4     191726\n",
       "3     153522\n",
       "Name: l_quant, dtype: int32"
      ]
     },
     "execution_count": 49,
     "metadata": {},
     "output_type": "execute_result"
    }
   ],
   "source": [
    "lectures.groupby('part').sum()['l_quant'].sort_values(ascending=False)"
   ]
  },
  {
   "cell_type": "markdown",
   "id": "bfd43a3d",
   "metadata": {},
   "source": [
    "Рейтинг популярности для лекций, в зависимости от тега лекции"
   ]
  },
  {
   "cell_type": "code",
   "execution_count": 50,
   "id": "86cab515",
   "metadata": {},
   "outputs": [
    {
     "data": {
      "text/plain": [
       "tag\n",
       "39     133046\n",
       "161     91792\n",
       "62      80640\n",
       "27      79111\n",
       "114     69673\n",
       "Name: l_quant, dtype: int32"
      ]
     },
     "execution_count": 50,
     "metadata": {},
     "output_type": "execute_result"
    }
   ],
   "source": [
    "lectures.groupby('tag').sum()['l_quant'].sort_values(ascending=False).head()"
   ]
  },
  {
   "cell_type": "markdown",
   "id": "0c011341",
   "metadata": {},
   "source": [
    "- Часть вопросов объединены по bundle_id в блоки до 5 вопросов, хотя большинство представлены по одиночке\n",
    "- Лекции бывают 4 типов: вступление, целеполагание, концептуальное изложение материала и решение задач.\n",
    "- Задачи и лекции разделены по темам на 7 разделов\n",
    "- Наибольшее число просмотров имеет лекция из 5го раздела."
   ]
  }
 ],
 "metadata": {
  "kernelspec": {
   "display_name": "Python 3 (ipykernel)",
   "language": "python",
   "name": "python3"
  },
  "language_info": {
   "codemirror_mode": {
    "name": "ipython",
    "version": 3
   },
   "file_extension": ".py",
   "mimetype": "text/x-python",
   "name": "python",
   "nbconvert_exporter": "python",
   "pygments_lexer": "ipython3",
   "version": "3.9.12"
  }
 },
 "nbformat": 4,
 "nbformat_minor": 5
}
