{
 "cells": [
  {
   "cell_type": "markdown",
   "metadata": {},
   "source": [
    "# Тихонов Василий: Python Advanced. Функции. Домашнее задание (HW) "
   ]
  },
  {
   "cell_type": "code",
   "execution_count": 164,
   "metadata": {
    "id": "MXXTuy_o0sjk"
   },
   "outputs": [],
   "source": [
    "!pip install -q -U kaggle_environments"
   ]
  },
  {
   "cell_type": "code",
   "execution_count": 165,
   "metadata": {
    "id": "yz23vWHD0wcj"
   },
   "outputs": [],
   "source": [
    "import numpy as np\n",
    "import pandas as pd\n",
    "import random\n",
    "\n",
    "import matplotlib.pyplot as plt\n",
    "import seaborn as sns\n",
    "\n",
    "from tqdm import tqdm\n",
    "from kaggle_environments import make, evaluate"
   ]
  },
  {
   "cell_type": "markdown",
   "metadata": {
    "id": "0kuo6IOxiRub"
   },
   "source": [
    "#### Агент: всегда играющет \"камень\" - это значение 0"
   ]
  },
  {
   "cell_type": "code",
   "execution_count": 166,
   "metadata": {
    "colab": {
     "base_uri": "https://localhost:8080/"
    },
    "id": "bqTqV7B92rJ6",
    "outputId": "38a9f481-3886-4ac2-81cd-4d35968a4e22"
   },
   "outputs": [
    {
     "name": "stdout",
     "output_type": "stream",
     "text": [
      "Overwriting rock_agent.py\n"
     ]
    }
   ],
   "source": [
    "%%writefile rock_agent.py\n",
    "\n",
    "def rock_agent(observation, configuration):\n",
    "    return 0"
   ]
  },
  {
   "cell_type": "markdown",
   "metadata": {
    "id": "cEGmUg6yzaC1"
   },
   "source": [
    "#### Агент: всегда играет \"бумага\" - это значение 1"
   ]
  },
  {
   "cell_type": "code",
   "execution_count": 167,
   "metadata": {
    "colab": {
     "base_uri": "https://localhost:8080/"
    },
    "id": "H40W_hFvy9sg",
    "outputId": "0bd6e2fb-ba43-47aa-f692-205f47799535"
   },
   "outputs": [
    {
     "name": "stdout",
     "output_type": "stream",
     "text": [
      "Overwriting paper_agent.py\n"
     ]
    }
   ],
   "source": [
    "%%writefile paper_agent.py\n",
    "\n",
    "def paper_agent(observation, configuration):\n",
    "    return 1"
   ]
  },
  {
   "cell_type": "markdown",
   "metadata": {
    "id": "VWtbbhMxzfWI"
   },
   "source": [
    "#### Агент: всегда играет \"ножницы\" - это значение 2"
   ]
  },
  {
   "cell_type": "code",
   "execution_count": 168,
   "metadata": {
    "colab": {
     "base_uri": "https://localhost:8080/"
    },
    "id": "KlM2JUPvzFxV",
    "outputId": "9703fe03-cc4e-4cef-bb17-edebe1939bb3"
   },
   "outputs": [
    {
     "name": "stdout",
     "output_type": "stream",
     "text": [
      "Overwriting scissors_agent.py\n"
     ]
    }
   ],
   "source": [
    "%%writefile scissors_agent.py\n",
    "\n",
    "def scissors_agent(observation, configuration):\n",
    "    return 2"
   ]
  },
  {
   "cell_type": "markdown",
   "metadata": {
    "id": "et1J5hUGigeh"
   },
   "source": [
    "#### Агент: производит то же самое действие, что и оппонент на прошлом ходу"
   ]
  },
  {
   "cell_type": "code",
   "execution_count": 169,
   "metadata": {
    "colab": {
     "base_uri": "https://localhost:8080/"
    },
    "id": "7l6Ttw6qi0jk",
    "outputId": "a16f4714-c5b8-4cb1-e8cc-55ca7287ad8e"
   },
   "outputs": [
    {
     "name": "stdout",
     "output_type": "stream",
     "text": [
      "Overwriting copy_opponent.py\n"
     ]
    }
   ],
   "source": [
    "%%writefile copy_opponent.py\n",
    "\n",
    "def copy_opponent(observation, configuration):\n",
    "    if observation.step > 0:\n",
    "        return observation.lastOpponentAction\n",
    "    else:\n",
    "        return random.randrange(0, configuration.signs)"
   ]
  },
  {
   "cell_type": "markdown",
   "metadata": {
    "id": "066HAlgQ0654"
   },
   "source": [
    "#### Агент: поражает последнее последнее действие соперника"
   ]
  },
  {
   "cell_type": "code",
   "execution_count": 170,
   "metadata": {
    "colab": {
     "base_uri": "https://localhost:8080/"
    },
    "id": "e8K4czTp05RG",
    "outputId": "6014cad8-5f5f-4e5e-c81e-bf95bd96eb3a"
   },
   "outputs": [
    {
     "name": "stdout",
     "output_type": "stream",
     "text": [
      "Overwriting reactionary.py\n"
     ]
    }
   ],
   "source": [
    "%%writefile reactionary.py\n",
    "\n",
    "import random\n",
    "from kaggle_environments.envs.rps.utils import get_score\n",
    "\n",
    "last_react_action = None\n",
    "\n",
    "def reactionary(observation, configuration):\n",
    "    global last_react_action\n",
    "    if observation.step == 0:\n",
    "        last_react_action = random.randrange(0, configuration.signs)\n",
    "    elif get_score(last_react_action, observation.lastOpponentAction) <= 1:\n",
    "        last_react_action = (observation.lastOpponentAction + 1) % configuration.signs\n",
    "\n",
    "    return last_react_action"
   ]
  },
  {
   "cell_type": "markdown",
   "metadata": {
    "id": "8rr0DNBf1z8u"
   },
   "source": [
    "#### Агент: контрреакция"
   ]
  },
  {
   "cell_type": "code",
   "execution_count": 171,
   "metadata": {
    "colab": {
     "base_uri": "https://localhost:8080/"
    },
    "id": "wFvIN5_W10EF",
    "outputId": "696cf4ff-01e6-463a-872a-a52d808488d6"
   },
   "outputs": [
    {
     "name": "stdout",
     "output_type": "stream",
     "text": [
      "Overwriting counter_reactionary.py\n"
     ]
    }
   ],
   "source": [
    "%%writefile counter_reactionary.py\n",
    "\n",
    "last_counter_action = None\n",
    "\n",
    "def counter_reactionary(observation, configuration):\n",
    "    global last_counter_action\n",
    "    if observation.step == 0:\n",
    "        last_counter_action = random.randrange(0, configuration.signs)\n",
    "    elif get_score(last_counter_action, observation.lastOpponentAction) == 1:\n",
    "        last_counter_action = (last_counter_action + 2) % configuration.signs\n",
    "    else:\n",
    "        last_counter_action = (observation.lastOpponentAction + 1) % configuration.signs\n",
    "\n",
    "    return last_counter_action"
   ]
  },
  {
   "cell_type": "markdown",
   "metadata": {
    "id": "h8BB1PD_9Bp9"
   },
   "source": [
    "#### Агент: статистический"
   ]
  },
  {
   "cell_type": "code",
   "execution_count": 172,
   "metadata": {
    "colab": {
     "base_uri": "https://localhost:8080/"
    },
    "id": "01pxbmau9B0d",
    "outputId": "0d47b4c1-76df-4c86-d643-0d5b643e03fd"
   },
   "outputs": [
    {
     "name": "stdout",
     "output_type": "stream",
     "text": [
      "Overwriting statistical.py\n"
     ]
    }
   ],
   "source": [
    "%%writefile statistical.py\n",
    "\n",
    "action_histogram = {}\n",
    "\n",
    "def statistical(observation, configuration):\n",
    "    global action_histogram\n",
    "    if observation.step == 0:\n",
    "        action_histogram = {}\n",
    "        return\n",
    "    action = observation.lastOpponentAction\n",
    "    if action not in action_histogram:\n",
    "        action_histogram[action] = 0\n",
    "    action_histogram[action] += 1\n",
    "    mode_action = None\n",
    "    mode_action_count = None\n",
    "    for k, v in action_histogram.items():\n",
    "        if mode_action_count is None or v > mode_action_count:\n",
    "            mode_action = k\n",
    "            mode_action_count = v\n",
    "            continue\n",
    "\n",
    "    return (mode_action + 1) % configuration.signs"
   ]
  },
  {
   "cell_type": "markdown",
   "metadata": {
    "id": "CNNnPsxy9B_-"
   },
   "source": [
    "#### Агент: [равновесие Д.Нэша](https://en.wikipedia.org/wiki/Nash_equilibrium)"
   ]
  },
  {
   "cell_type": "code",
   "execution_count": 173,
   "metadata": {
    "colab": {
     "base_uri": "https://localhost:8080/"
    },
    "id": "bEBLRhQh9CK-",
    "outputId": "cd0aeab6-4121-4017-9f2a-ee20f3b5f498"
   },
   "outputs": [
    {
     "name": "stdout",
     "output_type": "stream",
     "text": [
      "Overwriting nash_equilibrium_agent.py\n"
     ]
    }
   ],
   "source": [
    "%%writefile nash_equilibrium_agent.py\n",
    "\n",
    "import random\n",
    "\n",
    "def nash_equilibrium_agent(observation, configuration):\n",
    "    return random.randint(0, 2)"
   ]
  },
  {
   "cell_type": "markdown",
   "metadata": {},
   "source": [
    "#### Первый бой"
   ]
  },
  {
   "cell_type": "markdown",
   "metadata": {
    "id": "ExgIpXUVjbjN"
   },
   "source": [
    "Воспользуемся функцией evaluate из библиотеки kaggle_environments с помощью которой запустим наших агентов и проведем эксперимент на заданном количестве игр"
   ]
  },
  {
   "cell_type": "code",
   "execution_count": 174,
   "metadata": {
    "id": "hEs8aLpg4-iI"
   },
   "outputs": [],
   "source": [
    "env = make(\n",
    "    \"rps\", \n",
    "    configuration={\n",
    "        \"episodeSteps\": 10\n",
    "    }\n",
    ")"
   ]
  },
  {
   "cell_type": "code",
   "execution_count": 175,
   "metadata": {
    "colab": {
     "base_uri": "https://localhost:8080/",
     "height": 422
    },
    "id": "BZx0OJWO4-lt",
    "outputId": "cef7021b-ef9f-4d86-a956-63fedc34be7f"
   },
   "outputs": [
    {
     "data": {
      "text/html": [
       "<iframe srcdoc=\"<!--\n",
       "  Copyright 2020 Kaggle Inc\n",
       "\n",
       "  Licensed under the Apache License, Version 2.0 (the &quot;License&quot;);\n",
       "  you may not use this file except in compliance with the License.\n",
       "  You may obtain a copy of the License at\n",
       "\n",
       "      http://www.apache.org/licenses/LICENSE-2.0\n",
       "\n",
       "  Unless required by applicable law or agreed to in writing, software\n",
       "  distributed under the License is distributed on an &quot;AS IS&quot; BASIS,\n",
       "  WITHOUT WARRANTIES OR CONDITIONS OF ANY KIND, either express or implied.\n",
       "  See the License for the specific language governing permissions and\n",
       "  limitations under the License.\n",
       "-->\n",
       "<!DOCTYPE html>\n",
       "<html lang=&quot;en&quot;>\n",
       "  <head>\n",
       "    <title>Kaggle Simulation Player</title>\n",
       "    <meta name=&quot;viewport&quot; content=&quot;width=device-width,initial-scale=1&quot; />\n",
       "    <link\n",
       "      rel=&quot;stylesheet&quot;\n",
       "      href=&quot;https://cdnjs.cloudflare.com/ajax/libs/meyer-reset/2.0/reset.css&quot;\n",
       "      crossorigin=&quot;anonymous&quot;\n",
       "    />\n",
       "    <style type=&quot;text/css&quot;>\n",
       "      html,\n",
       "      body {\n",
       "        height: 100%;\n",
       "        font-family: sans-serif;\n",
       "        margin: 0px;\n",
       "      }\n",
       "      canvas {\n",
       "        /* image-rendering: -moz-crisp-edges;\n",
       "        image-rendering: -webkit-crisp-edges;\n",
       "        image-rendering: pixelated;\n",
       "        image-rendering: crisp-edges; */\n",
       "      }\n",
       "    </style>\n",
       "    <script src=&quot;https://unpkg.com/preact@10.0.1/dist/preact.umd.js&quot;></script>\n",
       "    <script src=&quot;https://unpkg.com/preact@10.0.1/hooks/dist/hooks.umd.js&quot;></script>\n",
       "    <script src=&quot;https://unpkg.com/htm@2.2.1/dist/htm.umd.js&quot;></script>\n",
       "    <script>\n",
       "      // Polyfill for Styled Components\n",
       "      window.React = {\n",
       "        ...preact,\n",
       "        createElement: preact.h,\n",
       "        PropTypes: { func: {} },\n",
       "      };\n",
       "    </script>\n",
       "    <script src=&quot;https://unpkg.com/styled-components@3.5.0-0/dist/styled-components.min.js&quot;></script>\n",
       "  </head>\n",
       "  <body>\n",
       "    <script>\n",
       "      \n",
       "window.kaggle = {\n",
       "  &quot;debug&quot;: false,\n",
       "  &quot;playing&quot;: true,\n",
       "  &quot;step&quot;: 0,\n",
       "  &quot;controls&quot;: true,\n",
       "  &quot;environment&quot;: {\n",
       "    &quot;id&quot;: &quot;6c66952e-401a-11ed-9a9b-eb503f049e8a&quot;,\n",
       "    &quot;name&quot;: &quot;rps&quot;,\n",
       "    &quot;title&quot;: &quot;Rock Paper Scissors&quot;,\n",
       "    &quot;description&quot;: &quot;Repeated Rock Paper Scissors&quot;,\n",
       "    &quot;version&quot;: &quot;1.0.0&quot;,\n",
       "    &quot;configuration&quot;: {\n",
       "      &quot;episodeSteps&quot;: 10,\n",
       "      &quot;actTimeout&quot;: 1,\n",
       "      &quot;runTimeout&quot;: 1200,\n",
       "      &quot;signs&quot;: 3,\n",
       "      &quot;tieRewardThreshold&quot;: 20,\n",
       "      &quot;agentTimeout&quot;: 60\n",
       "    },\n",
       "    &quot;specification&quot;: {\n",
       "      &quot;action&quot;: {\n",
       "        &quot;description&quot;: &quot;Choice of sign for the step (Rock = 0, Paper = 1, Scissors = 2, etc)&quot;,\n",
       "        &quot;type&quot;: &quot;integer&quot;,\n",
       "        &quot;minimum&quot;: 0,\n",
       "        &quot;maximum&quot;: 4,\n",
       "        &quot;default&quot;: 0\n",
       "      },\n",
       "      &quot;agents&quot;: [\n",
       "        2\n",
       "      ],\n",
       "      &quot;configuration&quot;: {\n",
       "        &quot;episodeSteps&quot;: {\n",
       "          &quot;description&quot;: &quot;Maximum number of steps the environment can run. Total is this number -1.&quot;,\n",
       "          &quot;type&quot;: &quot;integer&quot;,\n",
       "          &quot;minimum&quot;: 2,\n",
       "          &quot;default&quot;: 1000\n",
       "        },\n",
       "        &quot;actTimeout&quot;: {\n",
       "          &quot;description&quot;: &quot;Maximum runtime (seconds) to obtain an action from an agent.&quot;,\n",
       "          &quot;type&quot;: &quot;number&quot;,\n",
       "          &quot;minimum&quot;: 0,\n",
       "          &quot;default&quot;: 1\n",
       "        },\n",
       "        &quot;runTimeout&quot;: {\n",
       "          &quot;description&quot;: &quot;Maximum runtime (seconds) of an episode (not necessarily DONE).&quot;,\n",
       "          &quot;type&quot;: &quot;number&quot;,\n",
       "          &quot;minimum&quot;: 0,\n",
       "          &quot;default&quot;: 1200\n",
       "        },\n",
       "        &quot;signs&quot;: {\n",
       "          &quot;description&quot;: &quot;Number of choices each step (Rock = 0, Paper = 1, Scissors = 2, etc).&quot;,\n",
       "          &quot;type&quot;: &quot;integer&quot;,\n",
       "          &quot;minimum&quot;: 3,\n",
       "          &quot;maximum&quot;: 5,\n",
       "          &quot;default&quot;: 3\n",
       "        },\n",
       "        &quot;tieRewardThreshold&quot;: {\n",
       "          &quot;description&quot;: &quot;Minimum reward needed to achieve a win rather than a tie.&quot;,\n",
       "          &quot;type&quot;: &quot;integer&quot;,\n",
       "          &quot;minimum&quot;: 1,\n",
       "          &quot;maximum&quot;: 1000,\n",
       "          &quot;default&quot;: 20\n",
       "        },\n",
       "        &quot;agentTimeout&quot;: {\n",
       "          &quot;description&quot;: &quot;Obsolete field kept for backwards compatibility, please use observation.remainingOverageTime.&quot;,\n",
       "          &quot;type&quot;: &quot;number&quot;,\n",
       "          &quot;minimum&quot;: 0,\n",
       "          &quot;default&quot;: 60\n",
       "        }\n",
       "      },\n",
       "      &quot;info&quot;: {},\n",
       "      &quot;observation&quot;: {\n",
       "        &quot;remainingOverageTime&quot;: {\n",
       "          &quot;description&quot;: &quot;Total remaining banked time (seconds) that can be used in excess of per-step actTimeouts -- agent is disqualified with TIMEOUT status when this drops below 0.&quot;,\n",
       "          &quot;shared&quot;: false,\n",
       "          &quot;type&quot;: &quot;number&quot;,\n",
       "          &quot;minimum&quot;: 0,\n",
       "          &quot;default&quot;: 60\n",
       "        },\n",
       "        &quot;step&quot;: {\n",
       "          &quot;description&quot;: &quot;Current step within the episode.&quot;,\n",
       "          &quot;type&quot;: &quot;integer&quot;,\n",
       "          &quot;shared&quot;: true,\n",
       "          &quot;minimum&quot;: 0,\n",
       "          &quot;default&quot;: 0\n",
       "        },\n",
       "        &quot;lastOpponentAction&quot;: {\n",
       "          &quot;description&quot;: &quot;Symbol returned by opponent last step. None on the first step.&quot;,\n",
       "          &quot;type&quot;: &quot;integer&quot;,\n",
       "          &quot;minimum&quot;: 0,\n",
       "          &quot;maximum&quot;: 4\n",
       "        },\n",
       "        &quot;reward&quot;: {\n",
       "          &quot;description&quot;: &quot;Current reward of the agent.&quot;,\n",
       "          &quot;type&quot;: &quot;integer&quot;,\n",
       "          &quot;minimum&quot;: -999,\n",
       "          &quot;maximum&quot;: 999,\n",
       "          &quot;default&quot;: 0\n",
       "        }\n",
       "      },\n",
       "      &quot;reward&quot;: {\n",
       "        &quot;description&quot;: &quot;-1 = Lost, 0 = Draw, 1 = Won&quot;,\n",
       "        &quot;enum&quot;: [\n",
       "          -1,\n",
       "          0,\n",
       "          1\n",
       "        ],\n",
       "        &quot;default&quot;: 0,\n",
       "        &quot;type&quot;: [\n",
       "          &quot;number&quot;,\n",
       "          &quot;null&quot;\n",
       "        ]\n",
       "      }\n",
       "    },\n",
       "    &quot;steps&quot;: [\n",
       "      [\n",
       "        {\n",
       "          &quot;action&quot;: 0,\n",
       "          &quot;reward&quot;: 0,\n",
       "          &quot;info&quot;: {},\n",
       "          &quot;observation&quot;: {\n",
       "            &quot;remainingOverageTime&quot;: 60,\n",
       "            &quot;step&quot;: 0,\n",
       "            &quot;reward&quot;: 0\n",
       "          },\n",
       "          &quot;status&quot;: &quot;ACTIVE&quot;\n",
       "        },\n",
       "        {\n",
       "          &quot;action&quot;: 0,\n",
       "          &quot;reward&quot;: 0,\n",
       "          &quot;info&quot;: {},\n",
       "          &quot;observation&quot;: {\n",
       "            &quot;remainingOverageTime&quot;: 60,\n",
       "            &quot;reward&quot;: 0\n",
       "          },\n",
       "          &quot;status&quot;: &quot;ACTIVE&quot;\n",
       "        }\n",
       "      ],\n",
       "      [\n",
       "        {\n",
       "          &quot;action&quot;: 0,\n",
       "          &quot;reward&quot;: 1.0,\n",
       "          &quot;info&quot;: {},\n",
       "          &quot;observation&quot;: {\n",
       "            &quot;remainingOverageTime&quot;: 60,\n",
       "            &quot;step&quot;: 1,\n",
       "            &quot;reward&quot;: 1,\n",
       "            &quot;lastOpponentAction&quot;: 2\n",
       "          },\n",
       "          &quot;status&quot;: &quot;ACTIVE&quot;\n",
       "        },\n",
       "        {\n",
       "          &quot;action&quot;: 2,\n",
       "          &quot;reward&quot;: -1.0,\n",
       "          &quot;info&quot;: {},\n",
       "          &quot;observation&quot;: {\n",
       "            &quot;remainingOverageTime&quot;: 60,\n",
       "            &quot;reward&quot;: -1,\n",
       "            &quot;lastOpponentAction&quot;: 0\n",
       "          },\n",
       "          &quot;status&quot;: &quot;ACTIVE&quot;\n",
       "        }\n",
       "      ],\n",
       "      [\n",
       "        {\n",
       "          &quot;action&quot;: 0,\n",
       "          &quot;reward&quot;: 2.0,\n",
       "          &quot;info&quot;: {},\n",
       "          &quot;observation&quot;: {\n",
       "            &quot;remainingOverageTime&quot;: 60,\n",
       "            &quot;step&quot;: 2,\n",
       "            &quot;reward&quot;: 2,\n",
       "            &quot;lastOpponentAction&quot;: 2\n",
       "          },\n",
       "          &quot;status&quot;: &quot;ACTIVE&quot;\n",
       "        },\n",
       "        {\n",
       "          &quot;action&quot;: 2,\n",
       "          &quot;reward&quot;: -2.0,\n",
       "          &quot;info&quot;: {},\n",
       "          &quot;observation&quot;: {\n",
       "            &quot;remainingOverageTime&quot;: 60,\n",
       "            &quot;reward&quot;: -2,\n",
       "            &quot;lastOpponentAction&quot;: 0\n",
       "          },\n",
       "          &quot;status&quot;: &quot;ACTIVE&quot;\n",
       "        }\n",
       "      ],\n",
       "      [\n",
       "        {\n",
       "          &quot;action&quot;: 0,\n",
       "          &quot;reward&quot;: 3.0,\n",
       "          &quot;info&quot;: {},\n",
       "          &quot;observation&quot;: {\n",
       "            &quot;remainingOverageTime&quot;: 60,\n",
       "            &quot;step&quot;: 3,\n",
       "            &quot;reward&quot;: 3,\n",
       "            &quot;lastOpponentAction&quot;: 2\n",
       "          },\n",
       "          &quot;status&quot;: &quot;ACTIVE&quot;\n",
       "        },\n",
       "        {\n",
       "          &quot;action&quot;: 2,\n",
       "          &quot;reward&quot;: -3.0,\n",
       "          &quot;info&quot;: {},\n",
       "          &quot;observation&quot;: {\n",
       "            &quot;remainingOverageTime&quot;: 60,\n",
       "            &quot;reward&quot;: -3,\n",
       "            &quot;lastOpponentAction&quot;: 0\n",
       "          },\n",
       "          &quot;status&quot;: &quot;ACTIVE&quot;\n",
       "        }\n",
       "      ],\n",
       "      [\n",
       "        {\n",
       "          &quot;action&quot;: 0,\n",
       "          &quot;reward&quot;: 4.0,\n",
       "          &quot;info&quot;: {},\n",
       "          &quot;observation&quot;: {\n",
       "            &quot;remainingOverageTime&quot;: 60,\n",
       "            &quot;step&quot;: 4,\n",
       "            &quot;reward&quot;: 4,\n",
       "            &quot;lastOpponentAction&quot;: 2\n",
       "          },\n",
       "          &quot;status&quot;: &quot;ACTIVE&quot;\n",
       "        },\n",
       "        {\n",
       "          &quot;action&quot;: 2,\n",
       "          &quot;reward&quot;: -4.0,\n",
       "          &quot;info&quot;: {},\n",
       "          &quot;observation&quot;: {\n",
       "            &quot;remainingOverageTime&quot;: 60,\n",
       "            &quot;reward&quot;: -4,\n",
       "            &quot;lastOpponentAction&quot;: 0\n",
       "          },\n",
       "          &quot;status&quot;: &quot;ACTIVE&quot;\n",
       "        }\n",
       "      ],\n",
       "      [\n",
       "        {\n",
       "          &quot;action&quot;: 0,\n",
       "          &quot;reward&quot;: 5.0,\n",
       "          &quot;info&quot;: {},\n",
       "          &quot;observation&quot;: {\n",
       "            &quot;remainingOverageTime&quot;: 60,\n",
       "            &quot;step&quot;: 5,\n",
       "            &quot;reward&quot;: 5,\n",
       "            &quot;lastOpponentAction&quot;: 2\n",
       "          },\n",
       "          &quot;status&quot;: &quot;ACTIVE&quot;\n",
       "        },\n",
       "        {\n",
       "          &quot;action&quot;: 2,\n",
       "          &quot;reward&quot;: -5.0,\n",
       "          &quot;info&quot;: {},\n",
       "          &quot;observation&quot;: {\n",
       "            &quot;remainingOverageTime&quot;: 60,\n",
       "            &quot;reward&quot;: -5,\n",
       "            &quot;lastOpponentAction&quot;: 0\n",
       "          },\n",
       "          &quot;status&quot;: &quot;ACTIVE&quot;\n",
       "        }\n",
       "      ],\n",
       "      [\n",
       "        {\n",
       "          &quot;action&quot;: 0,\n",
       "          &quot;reward&quot;: 6.0,\n",
       "          &quot;info&quot;: {},\n",
       "          &quot;observation&quot;: {\n",
       "            &quot;remainingOverageTime&quot;: 60,\n",
       "            &quot;step&quot;: 6,\n",
       "            &quot;reward&quot;: 6,\n",
       "            &quot;lastOpponentAction&quot;: 2\n",
       "          },\n",
       "          &quot;status&quot;: &quot;ACTIVE&quot;\n",
       "        },\n",
       "        {\n",
       "          &quot;action&quot;: 2,\n",
       "          &quot;reward&quot;: -6.0,\n",
       "          &quot;info&quot;: {},\n",
       "          &quot;observation&quot;: {\n",
       "            &quot;remainingOverageTime&quot;: 60,\n",
       "            &quot;reward&quot;: -6,\n",
       "            &quot;lastOpponentAction&quot;: 0\n",
       "          },\n",
       "          &quot;status&quot;: &quot;ACTIVE&quot;\n",
       "        }\n",
       "      ],\n",
       "      [\n",
       "        {\n",
       "          &quot;action&quot;: 0,\n",
       "          &quot;reward&quot;: 7.0,\n",
       "          &quot;info&quot;: {},\n",
       "          &quot;observation&quot;: {\n",
       "            &quot;remainingOverageTime&quot;: 60,\n",
       "            &quot;step&quot;: 7,\n",
       "            &quot;reward&quot;: 7,\n",
       "            &quot;lastOpponentAction&quot;: 2\n",
       "          },\n",
       "          &quot;status&quot;: &quot;ACTIVE&quot;\n",
       "        },\n",
       "        {\n",
       "          &quot;action&quot;: 2,\n",
       "          &quot;reward&quot;: -7.0,\n",
       "          &quot;info&quot;: {},\n",
       "          &quot;observation&quot;: {\n",
       "            &quot;remainingOverageTime&quot;: 60,\n",
       "            &quot;reward&quot;: -7,\n",
       "            &quot;lastOpponentAction&quot;: 0\n",
       "          },\n",
       "          &quot;status&quot;: &quot;ACTIVE&quot;\n",
       "        }\n",
       "      ],\n",
       "      [\n",
       "        {\n",
       "          &quot;action&quot;: 0,\n",
       "          &quot;reward&quot;: 8.0,\n",
       "          &quot;info&quot;: {},\n",
       "          &quot;observation&quot;: {\n",
       "            &quot;remainingOverageTime&quot;: 60,\n",
       "            &quot;step&quot;: 8,\n",
       "            &quot;reward&quot;: 8,\n",
       "            &quot;lastOpponentAction&quot;: 2\n",
       "          },\n",
       "          &quot;status&quot;: &quot;ACTIVE&quot;\n",
       "        },\n",
       "        {\n",
       "          &quot;action&quot;: 2,\n",
       "          &quot;reward&quot;: -8.0,\n",
       "          &quot;info&quot;: {},\n",
       "          &quot;observation&quot;: {\n",
       "            &quot;remainingOverageTime&quot;: 60,\n",
       "            &quot;reward&quot;: -8,\n",
       "            &quot;lastOpponentAction&quot;: 0\n",
       "          },\n",
       "          &quot;status&quot;: &quot;ACTIVE&quot;\n",
       "        }\n",
       "      ],\n",
       "      [\n",
       "        {\n",
       "          &quot;action&quot;: 0,\n",
       "          &quot;reward&quot;: 0,\n",
       "          &quot;info&quot;: {},\n",
       "          &quot;observation&quot;: {\n",
       "            &quot;remainingOverageTime&quot;: 60,\n",
       "            &quot;step&quot;: 9,\n",
       "            &quot;reward&quot;: 9,\n",
       "            &quot;lastOpponentAction&quot;: 2\n",
       "          },\n",
       "          &quot;status&quot;: &quot;DONE&quot;\n",
       "        },\n",
       "        {\n",
       "          &quot;action&quot;: 2,\n",
       "          &quot;reward&quot;: 0,\n",
       "          &quot;info&quot;: {},\n",
       "          &quot;observation&quot;: {\n",
       "            &quot;remainingOverageTime&quot;: 60,\n",
       "            &quot;reward&quot;: -9,\n",
       "            &quot;lastOpponentAction&quot;: 0\n",
       "          },\n",
       "          &quot;status&quot;: &quot;DONE&quot;\n",
       "        }\n",
       "      ]\n",
       "    ],\n",
       "    &quot;rewards&quot;: [\n",
       "      0,\n",
       "      0\n",
       "    ],\n",
       "    &quot;statuses&quot;: [\n",
       "      &quot;DONE&quot;,\n",
       "      &quot;DONE&quot;\n",
       "    ],\n",
       "    &quot;schema_version&quot;: 1,\n",
       "    &quot;info&quot;: {}\n",
       "  },\n",
       "  &quot;logs&quot;: [\n",
       "    [],\n",
       "    [],\n",
       "    [\n",
       "      {\n",
       "        &quot;duration&quot;: 0.000135,\n",
       "        &quot;stdout&quot;: &quot;&quot;,\n",
       "        &quot;stderr&quot;: &quot;&quot;\n",
       "      },\n",
       "      {\n",
       "        &quot;duration&quot;: 4.6e-05,\n",
       "        &quot;stdout&quot;: &quot;&quot;,\n",
       "        &quot;stderr&quot;: &quot;&quot;\n",
       "      }\n",
       "    ],\n",
       "    [\n",
       "      {\n",
       "        &quot;duration&quot;: 4e-06,\n",
       "        &quot;stdout&quot;: &quot;&quot;,\n",
       "        &quot;stderr&quot;: &quot;&quot;\n",
       "      },\n",
       "      {\n",
       "        &quot;duration&quot;: 3e-06,\n",
       "        &quot;stdout&quot;: &quot;&quot;,\n",
       "        &quot;stderr&quot;: &quot;&quot;\n",
       "      }\n",
       "    ],\n",
       "    [\n",
       "      {\n",
       "        &quot;duration&quot;: 4e-06,\n",
       "        &quot;stdout&quot;: &quot;&quot;,\n",
       "        &quot;stderr&quot;: &quot;&quot;\n",
       "      },\n",
       "      {\n",
       "        &quot;duration&quot;: 3e-06,\n",
       "        &quot;stdout&quot;: &quot;&quot;,\n",
       "        &quot;stderr&quot;: &quot;&quot;\n",
       "      }\n",
       "    ],\n",
       "    [\n",
       "      {\n",
       "        &quot;duration&quot;: 4e-06,\n",
       "        &quot;stdout&quot;: &quot;&quot;,\n",
       "        &quot;stderr&quot;: &quot;&quot;\n",
       "      },\n",
       "      {\n",
       "        &quot;duration&quot;: 2e-06,\n",
       "        &quot;stdout&quot;: &quot;&quot;,\n",
       "        &quot;stderr&quot;: &quot;&quot;\n",
       "      }\n",
       "    ],\n",
       "    [\n",
       "      {\n",
       "        &quot;duration&quot;: 4e-06,\n",
       "        &quot;stdout&quot;: &quot;&quot;,\n",
       "        &quot;stderr&quot;: &quot;&quot;\n",
       "      },\n",
       "      {\n",
       "        &quot;duration&quot;: 2e-06,\n",
       "        &quot;stdout&quot;: &quot;&quot;,\n",
       "        &quot;stderr&quot;: &quot;&quot;\n",
       "      }\n",
       "    ],\n",
       "    [\n",
       "      {\n",
       "        &quot;duration&quot;: 4e-06,\n",
       "        &quot;stdout&quot;: &quot;&quot;,\n",
       "        &quot;stderr&quot;: &quot;&quot;\n",
       "      },\n",
       "      {\n",
       "        &quot;duration&quot;: 3e-06,\n",
       "        &quot;stdout&quot;: &quot;&quot;,\n",
       "        &quot;stderr&quot;: &quot;&quot;\n",
       "      }\n",
       "    ],\n",
       "    [\n",
       "      {\n",
       "        &quot;duration&quot;: 3e-06,\n",
       "        &quot;stdout&quot;: &quot;&quot;,\n",
       "        &quot;stderr&quot;: &quot;&quot;\n",
       "      },\n",
       "      {\n",
       "        &quot;duration&quot;: 2e-06,\n",
       "        &quot;stdout&quot;: &quot;&quot;,\n",
       "        &quot;stderr&quot;: &quot;&quot;\n",
       "      }\n",
       "    ],\n",
       "    [\n",
       "      {\n",
       "        &quot;duration&quot;: 4e-06,\n",
       "        &quot;stdout&quot;: &quot;&quot;,\n",
       "        &quot;stderr&quot;: &quot;&quot;\n",
       "      },\n",
       "      {\n",
       "        &quot;duration&quot;: 2e-06,\n",
       "        &quot;stdout&quot;: &quot;&quot;,\n",
       "        &quot;stderr&quot;: &quot;&quot;\n",
       "      }\n",
       "    ],\n",
       "    [\n",
       "      {\n",
       "        &quot;duration&quot;: 4e-06,\n",
       "        &quot;stdout&quot;: &quot;&quot;,\n",
       "        &quot;stderr&quot;: &quot;&quot;\n",
       "      },\n",
       "      {\n",
       "        &quot;duration&quot;: 3e-06,\n",
       "        &quot;stdout&quot;: &quot;&quot;,\n",
       "        &quot;stderr&quot;: &quot;&quot;\n",
       "      }\n",
       "    ]\n",
       "  ],\n",
       "  &quot;mode&quot;: &quot;ipython&quot;,\n",
       "  &quot;width&quot;: 500,\n",
       "  &quot;height&quot;: 400\n",
       "};\n",
       "\n",
       "\n",
       "window.kaggle.renderer = async function renderer(context) {\n",
       "    const {\n",
       "        act,\n",
       "        agents,\n",
       "        environment,\n",
       "        frame,\n",
       "        height = 400,\n",
       "        interactive,\n",
       "        isInteractive,\n",
       "        parent,\n",
       "        step,\n",
       "        update,\n",
       "        width = 400,\n",
       "    } = context;\n",
       "\n",
       "    const sign_names = [&quot;Rock&quot;, &quot;Paper&quot;, &quot;Scissors&quot;, &quot;Spock&quot;, &quot;Lizard&quot;]\n",
       "    const sign_icons = [&quot;\\u{1f44a}&quot;, &quot;\\u{270b}&quot;, &quot;\\u{2702}\\u{fe0f}&quot;, &quot;\\u{1f596}&quot;, &quot;\\u{1f98e}&quot;]\n",
       "\n",
       "    // Common Dimensions.\n",
       "    const maxWidth = 960;\n",
       "    const maxHeight = 280;\n",
       "    const canvasSize = Math.min(height, width);\n",
       "    const unit = 8;\n",
       "    const offset = canvasSize > 400 ? canvasSize * 0.1 : unit / 2;\n",
       "    const cellSize = (canvasSize - offset * 2) / 3;\n",
       "\n",
       "    // Canvas Setup.\n",
       "    let canvas = parent.querySelector(&quot;canvas&quot;);\n",
       "    if (!canvas) {\n",
       "        canvas = document.createElement(&quot;canvas&quot;);\n",
       "        parent.appendChild(canvas);\n",
       "\n",
       "        if (interactive) {\n",
       "            canvas.addEventListener(&quot;click&quot;, evt => {\n",
       "                if (!isInteractive()) return;\n",
       "                const rect = evt.target.getBoundingClientRect();\n",
       "                const x = evt.clientX - rect.left - offset;\n",
       "                const y = evt.clientY - rect.top - offset;\n",
       "                act(Math.floor(x / cellSize) + Math.floor(y / cellSize) * 3);\n",
       "            });\n",
       "        }\n",
       "    }\n",
       "\n",
       "    canvas.style.cursor = isInteractive() ? &quot;pointer&quot; : &quot;default&quot;;\n",
       "\n",
       "    // Canvas setup and reset.\n",
       "    let c = canvas.getContext(&quot;2d&quot;);\n",
       "    canvas.width = Math.min(maxWidth, width);\n",
       "    canvas.height = Math.min(maxHeight, height);\n",
       "    c.clearRect(0, 0, canvas.width, canvas.height);\n",
       "\n",
       "    // ------------------------------------------------------------------------------------//\n",
       "\n",
       "    if (step < environment.steps.length - 1) {\n",
       "        const state = environment.steps[step + 1]\n",
       "        const last_state = environment.steps[step]\n",
       "        const delta_reward = state[0].reward - last_state[0].reward\n",
       "\n",
       "        const p1_move = state[1].observation.lastOpponentAction;\n",
       "        const p2_move = state[0].observation.lastOpponentAction;\n",
       "\n",
       "        const info = environment.info;\n",
       "        const player1_text = info?.TeamNames?.[0] || &quot;Player 1&quot;;\n",
       "        const player2_text = info?.TeamNames?.[1] || &quot;Player 2&quot;;\n",
       "\n",
       "        const ctx = canvas.getContext(&quot;2d&quot;);\n",
       "        const padding = 20;\n",
       "        const row_width = (Math.min(maxWidth, width) - padding * 2) / 3;\n",
       "        const label_x = padding;\n",
       "        const player1_x = padding + row_width;\n",
       "        const player2_x = padding + 2 * row_width;\n",
       "        const middle_x = padding + row_width * 1.5;\n",
       "        const label_y = 40;\n",
       "        const sign_id_y = 80;\n",
       "        const sign_name_y = 120;\n",
       "        const sign_icon_y = 160;\n",
       "        const result_y = 200;\n",
       "        const score_y = 240;\n",
       "\n",
       "        ctx.font = &quot;30px sans-serif&quot;;\n",
       "        ctx.fillStyle = &quot;#FFFFFF&quot;;\n",
       "\n",
       "        // Player Row\n",
       "        ctx.fillText(player1_text, player1_x, label_y)\n",
       "        ctx.fillText(player2_text, player2_x, label_y)\n",
       "\n",
       "        // Action Id Row\n",
       "        ctx.fillText(&quot;Action:&quot;, label_x, sign_id_y);\n",
       "        ctx.fillText(p1_move, player1_x, sign_id_y);\n",
       "        ctx.fillText(p2_move, player2_x, sign_id_y);\n",
       "\n",
       "        // Action Name Row\n",
       "        ctx.fillText(&quot;Name:&quot;, label_x, sign_name_y);\n",
       "        ctx.fillText(sign_names[p1_move], player1_x, sign_name_y);\n",
       "        ctx.fillText(sign_names[p2_move], player2_x, sign_name_y);\n",
       "\n",
       "        // Emoji Row\n",
       "        ctx.fillText(&quot;Icon:&quot;, label_x, sign_icon_y);\n",
       "        ctx.fillText(sign_icons[p1_move], player1_x, sign_icon_y);\n",
       "        ctx.fillText(sign_icons[p2_move], player2_x, sign_icon_y);\n",
       "\n",
       "        // Result Row\n",
       "        ctx.fillText(&quot;Result:&quot;, label_x, result_y);\n",
       "        if (delta_reward === 1) {\n",
       "            ctx.fillText(&quot;Win&quot;, player1_x, result_y);\n",
       "        } else if (delta_reward === -1) {\n",
       "            ctx.fillText(&quot;Win&quot;, player2_x, result_y);\n",
       "        } else {\n",
       "            ctx.fillText(&quot;Tie&quot;, middle_x, result_y);\n",
       "        }\n",
       "\n",
       "        // Reward Row\n",
       "        ctx.fillText(&quot;Reward:&quot;, label_x, score_y);\n",
       "        ctx.fillText(state[0].reward, player1_x, score_y);\n",
       "        ctx.fillText(state[1].reward, player2_x, score_y);\n",
       "    }\n",
       "};\n",
       "\n",
       "\n",
       "    \n",
       "    </script>\n",
       "    <script>\n",
       "      const h = htm.bind(preact.h);\n",
       "      const { useContext, useEffect, useRef, useState } = preactHooks;\n",
       "      const styled = window.styled.default;\n",
       "\n",
       "      const Context = preact.createContext({});\n",
       "\n",
       "      const Loading = styled.div`\n",
       "        animation: rotate360 1.1s infinite linear;\n",
       "        border: 8px solid rgba(255, 255, 255, 0.2);\n",
       "        border-left-color: #0cb1ed;\n",
       "        border-radius: 50%;\n",
       "        height: 40px;\n",
       "        position: relative;\n",
       "        transform: translateZ(0);\n",
       "        width: 40px;\n",
       "\n",
       "        @keyframes rotate360 {\n",
       "          0% {\n",
       "            transform: rotate(0deg);\n",
       "          }\n",
       "          100% {\n",
       "            transform: rotate(360deg);\n",
       "          }\n",
       "        }\n",
       "      `;\n",
       "\n",
       "      const Logo = styled(\n",
       "        (props) => h`\n",
       "        <a href=&quot;https://kaggle.com&quot; target=&quot;_blank&quot; className=${props.className}>\n",
       "          <svg width=&quot;62px&quot; height=&quot;20px&quot; viewBox=&quot;0 0 62 24&quot; version=&quot;1.1&quot; xmlns=&quot;http://www.w3.org/2000/svg&quot;>\n",
       "            <g fill=&quot;#1EBEFF&quot; fill-rule=&quot;nonzero&quot;>\n",
       "              <path d=&quot;M10.2,17.8c0,0.1-0.1,0.1-0.2,0.1H7.7c-0.1,0-0.3-0.1-0.4-0.2l-3.8-4.9l-1.1,1v3.8 c0,0.2-0.1,0.3-0.3,0.3H0.3c-0.2,0-0.3-0.1-0.3-0.3V0.3C0.1,0.1,0.2,0,0.3,0h1.8c0.2,0,0.3,0.1,0.3,0.3V11L7,6.3 c0.1-0.1,0.2-0.2,0.4-0.2h2.4c0.1,0,0.2,0,0.2,0.1c0,0.1,0,0.2,0,0.2l-4.9,4.7l5.1,6.3C10.2,17.6,10.2,17.7,10.2,17.8z&quot;/>\n",
       "              <path d=&quot;M19.6,17.9h-1.8c-0.2,0-0.3-0.1-0.3-0.3v-0.4c-0.8,0.6-1.8,0.9-3,0.9c-1.1,0-2-0.3-2.8-1 c-0.8-0.7-1.2-1.6-1.2-2.7c0-1.7,1.1-2.9,3.2-3.5c0.8-0.2,2.1-0.5,3.8-0.6c0.1-0.6-0.1-1.2-0.5-1.7c-0.4-0.5-1-0.7-1.7-0.7 c-1,0-2,0.4-3,1C12.2,9.1,12.1,9.1,12,9l-0.9-1.3C11,7.5,11,7.4,11.1,7.3c1.3-0.9,2.7-1.4,4.2-1.4c1.1,0,2.1,0.3,2.8,0.8 c1.1,0.8,1.7,2,1.7,3.7v7.3C19.9,17.8,19.8,17.9,19.6,17.9z M17.5,12.4c-1.7,0.2-2.9,0.4-3.5,0.7c-0.9,0.4-1.2,0.9-1.1,1.6 c0.1,0.4,0.2,0.7,0.6,0.9c0.3,0.2,0.7,0.4,1.1,0.4c1.2,0.1,2.2-0.2,2.9-1V12.4z&quot;/>\n",
       "              <path d=&quot;M30.6,22.5c-0.9,1-2.3,1.5-4,1.5c-1,0-2-0.3-2.9-0.8c-0.2-0.1-0.4-0.3-0.7-0.5 c-0.3-0.2-0.6-0.5-0.9-0.7c-0.1-0.1-0.1-0.2,0-0.4l1.2-1.2c0.1-0.1,0.1-0.1,0.2-0.1c0.1,0,0.1,0,0.2,0.1c1,1,1.9,1.5,2.8,1.5 c2.1,0,3.2-1.1,3.2-3.3v-1.4c-0.8,0.7-1.9,1-3.3,1c-1.7,0-3-0.6-4-1.9c-0.8-1.1-1.3-2.5-1.3-4.2c0-1.6,0.4-3,1.2-4.1 c0.9-1.3,2.3-2,4-2c1.3,0,2.4,0.3,3.3,1V6.4c0-0.2,0.1-0.3,0.3-0.3h1.8c0.2,0,0.3,0.1,0.3,0.3v11.7C32,20,31.5,21.5,30.6,22.5z M29.7,9.9c-0.4-1.1-1.4-1.7-3-1.7c-2,0-3.1,1.3-3.1,3.8c0,1.4,0.3,2.4,1,3.1c0.5,0.5,1.2,0.8,2,0.8c1.6,0,2.7-0.6,3.1-1.7V9.9z&quot;/>\n",
       "              <path d=&quot;M42.9,22.5c-0.9,1-2.3,1.5-4,1.5c-1,0-2-0.3-2.9-0.8c-0.2-0.1-0.4-0.3-0.7-0.5 c-0.3-0.2-0.6-0.5-0.9-0.7c-0.1-0.1-0.1-0.2,0-0.4l1.2-1.2c0.1-0.1,0.1-0.1,0.2-0.1c0.1,0,0.1,0,0.2,0.1c1,1,1.9,1.5,2.8,1.5 c2.1,0,3.2-1.1,3.2-3.3v-1.4c-0.8,0.7-1.9,1-3.3,1c-1.7,0-3-0.6-4-1.9c-0.8-1.1-1.3-2.5-1.3-4.2c0-1.6,0.4-3,1.2-4.1 c0.9-1.3,2.3-2,4-2c1.3,0,2.4,0.3,3.3,1V6.4c0-0.2,0.1-0.3,0.3-0.3H44c0.2,0,0.3,0.1,0.3,0.3v11.7C44.3,20,43.8,21.5,42.9,22.5z M42,9.9c-0.4-1.1-1.4-1.7-3-1.7c-2,0-3.1,1.3-3.1,3.8c0,1.4,0.3,2.4,1,3.1c0.5,0.5,1.2,0.8,2,0.8c1.6,0,2.7-0.6,3.1-1.7L42,9.9 L42,9.9z&quot;/>\n",
       "              <path d=&quot;M48.3,17.9h-1.8c-0.2,0-0.3-0.1-0.3-0.3V0.3c0-0.2,0.1-0.3,0.3-0.3h1.8c0.2,0,0.3,0.1,0.3,0.3 v17.3C48.5,17.8,48.5,17.9,48.3,17.9z&quot;/>\n",
       "              <path d=&quot;M61.4,12.6c0,0.2-0.1,0.3-0.3,0.3h-8.5c0.1,0.9,0.5,1.6,1.1,2.2c0.7,0.6,1.6,0.9,2.7,0.9 c1,0,1.8-0.3,2.6-0.8c0.2-0.1,0.3-0.1,0.4,0l1.2,1.3c0.1,0.1,0.1,0.3,0,0.4c-1.3,0.9-2.7,1.4-4.4,1.4c-1.8,0-3.3-0.6-4.4-1.8 c-1.1-1.2-1.7-2.7-1.7-4.5c0-1.7,0.6-3.2,1.7-4.4c1-1.1,2.4-1.6,4.1-1.6c1.6,0,2.9,0.6,4,1.7c1.1,1.2,1.6,2.6,1.5,4.4L61.4,12.6 z M58,8.7c-0.6-0.5-1.3-0.8-2.1-0.8c-0.8,0-1.5,0.3-2.1,0.8c-0.6,0.5-1,1.2-1.1,2H59C59,9.9,58.6,9.3,58,8.7z&quot;/>\n",
       "            </g>\n",
       "          </svg>\n",
       "        </a>\n",
       "      `\n",
       "      )`\n",
       "        display: inline-flex;\n",
       "      `;\n",
       "\n",
       "      const Header = styled((props) => {\n",
       "        const { environment } = useContext(Context);\n",
       "\n",
       "        return h`<div className=${props.className} >\n",
       "          <${Logo} />\n",
       "          <span><b>Left / Right Arrow:</b> Increase / Decrease Step</span><span><b>0-9 Row Keys:</b> Playback Speed</span><span><b>Space:</b> Pause / Play</span>\n",
       "          ${environment.title}\n",
       "        </div>`;\n",
       "      })`\n",
       "        align-items: center;\n",
       "        border-bottom: 4px solid #212121;\n",
       "        box-sizing: border-box;\n",
       "        color: #fff;\n",
       "        display: flex;\n",
       "        flex: 0 0 36px;\n",
       "        font-size: 14px;\n",
       "        justify-content: space-between;\n",
       "        padding: 0 8px;\n",
       "        width: 100%;\n",
       "      `;\n",
       "\n",
       "      const Renderer = styled((props) => {\n",
       "        const context = useContext(Context);\n",
       "        const { animate, debug, playing, renderer, speed } = context;\n",
       "        const ref = preact.createRef();\n",
       "\n",
       "        useEffect(async () => {\n",
       "          if (!ref.current) return;\n",
       "\n",
       "          const renderFrame = async (start, step, lastFrame) => {\n",
       "            if (step !== context.step) return;\n",
       "            if (lastFrame === 1) {\n",
       "              if (!animate) return;\n",
       "              start = Date.now();\n",
       "            }\n",
       "            const frame =\n",
       "              playing || animate\n",
       "                ? Math.min((Date.now() - start) / speed, 1)\n",
       "                : 1;\n",
       "            try {\n",
       "              if (debug) console.time(&quot;render&quot;);\n",
       "              await renderer({\n",
       "                ...context,\n",
       "                frame,\n",
       "                height: ref.current.clientHeight,\n",
       "                hooks: preactHooks,\n",
       "                parent: ref.current,\n",
       "                preact,\n",
       "                styled,\n",
       "                width: ref.current.clientWidth,\n",
       "              });\n",
       "            } catch (error) {\n",
       "              if (debug) console.error(error);\n",
       "              console.log({ ...context, frame, error });\n",
       "            } finally {\n",
       "              if (debug) console.timeEnd(&quot;render&quot;);\n",
       "            }\n",
       "            window.requestAnimationFrame(() => renderFrame(start, step, frame));\n",
       "          };\n",
       "\n",
       "          await renderFrame(Date.now(), context.step);\n",
       "        }, [ref.current, context.step, context.renderer]);\n",
       "\n",
       "        return h`<div className=${props.className} ref=${ref} />`;\n",
       "      })`\n",
       "        align-items: center;\n",
       "        box-sizing: border-box;\n",
       "        display: flex;\n",
       "        height: 100%;\n",
       "        left: 0;\n",
       "        justify-content: center;\n",
       "        position: absolute;\n",
       "        top: 0;\n",
       "        width: 100%;\n",
       "      `;\n",
       "\n",
       "      const Processing = styled((props) => {\n",
       "        const { processing } = useContext(Context);\n",
       "        const text = processing === true ? &quot;Processing...&quot; : processing;\n",
       "        return h`<div className=${props.className}>${text}</div>`;\n",
       "      })`\n",
       "        bottom: 0;\n",
       "        color: #fff;\n",
       "        font-size: 12px;\n",
       "        left: 0;\n",
       "        line-height: 24px;\n",
       "        position: absolute;\n",
       "        text-align: center;\n",
       "        width: 100%;\n",
       "      `;\n",
       "\n",
       "      const Viewer = styled((props) => {\n",
       "        const { processing } = useContext(Context);\n",
       "        return h`<div className=${props.className}>\n",
       "          <${Renderer} />\n",
       "          ${processing && h`<${Processing} />`}\n",
       "        </div>`;\n",
       "      })`\n",
       "        background-color: #000b2a;\n",
       "        background-image: radial-gradient(\n",
       "          circle closest-side,\n",
       "          #000b49,\n",
       "          #000b2a\n",
       "        );\n",
       "        display: flex;\n",
       "        flex: 1;\n",
       "        overflow: hidden;\n",
       "        position: relative;\n",
       "        width: 100%;\n",
       "      `;\n",
       "\n",
       "      // Partitions the elements of arr into subarrays of max length num.\n",
       "      const groupIntoSets = (arr, num) => {\n",
       "        const sets = [];\n",
       "        arr.forEach(a => {\n",
       "          if (sets.length === 0 || sets[sets.length - 1].length === num) {\n",
       "            sets.push([]);\n",
       "          }\n",
       "          sets[sets.length - 1].push(a);\n",
       "        });\n",
       "        return sets;\n",
       "      }\n",
       "\n",
       "      // Expects `width` input prop to set proper max-width for agent name span.\n",
       "      const Legend = styled((props) => {\n",
       "        const { agents, legend } = useContext(Context);\n",
       "\n",
       "        const agentPairs = groupIntoSets(agents.sort((a, b) => a.index - b.index), 2);\n",
       "\n",
       "        return h`<div className=${props.className}>\n",
       "          ${agentPairs.map(agentList =>\n",
       "            h`<ul>\n",
       "                ${agentList.map(a =>\n",
       "                  h`<li key=${a.id} title=&quot;id: ${a.id}&quot; style=&quot;color:${a.color || &quot;#FFF&quot;}&quot;>\n",
       "                      ${a.image && h`<img src=${a.image} />`}\n",
       "                      <span>${a.name}</span>\n",
       "                    </li>`\n",
       "                )}\n",
       "              </ul>`)}\n",
       "        </div>`;\n",
       "      })`\n",
       "        background-color: #000b2a;\n",
       "        font-family: sans-serif;\n",
       "        font-size: 14px;\n",
       "        height: 48px;\n",
       "        width: 100%;\n",
       "\n",
       "        ul {\n",
       "          align-items: center;\n",
       "          display: flex;\n",
       "          flex-direction: row;\n",
       "          justify-content: center;\n",
       "        }\n",
       "\n",
       "        li {\n",
       "          align-items: center;\n",
       "          display: inline-flex;\n",
       "          transition: color 1s;\n",
       "        }\n",
       "\n",
       "        span {\n",
       "          max-width: ${p => (p.width || 400) * 0.5 - 36}px;\n",
       "          overflow: hidden;\n",
       "          text-overflow: ellipsis;\n",
       "          white-space: nowrap;\n",
       "        }\n",
       "\n",
       "        img {\n",
       "          height: 24px;\n",
       "          margin-left: 4px;\n",
       "          margin-right: 4px;\n",
       "          width: 24px;\n",
       "        }\n",
       "      `;\n",
       "\n",
       "      const StepInput = styled.input.attrs({\n",
       "        type: &quot;range&quot;,\n",
       "      })`\n",
       "        appearance: none;\n",
       "        background: rgba(255, 255, 255, 0.15);\n",
       "        border-radius: 2px;\n",
       "        display: block;\n",
       "        flex: 1;\n",
       "        height: 4px;\n",
       "        opacity: 0.8;\n",
       "        outline: none;\n",
       "        transition: opacity 0.2s;\n",
       "        width: 100%;\n",
       "\n",
       "        &:hover {\n",
       "          opacity: 1;\n",
       "        }\n",
       "\n",
       "        &::-webkit-slider-thumb {\n",
       "          appearance: none;\n",
       "          background: #1ebeff;\n",
       "          border-radius: 100%;\n",
       "          cursor: pointer;\n",
       "          height: 12px;\n",
       "          margin: 0;\n",
       "          position: relative;\n",
       "          width: 12px;\n",
       "\n",
       "          &::after {\n",
       "            content: &quot;&quot;;\n",
       "            position: absolute;\n",
       "            top: 0px;\n",
       "            left: 0px;\n",
       "            width: 200px;\n",
       "            height: 8px;\n",
       "            background: green;\n",
       "          }\n",
       "        }\n",
       "      `;\n",
       "\n",
       "      const PlayButton = styled.button`\n",
       "        align-items: center;\n",
       "        background: none;\n",
       "        border: none;\n",
       "        color: white;\n",
       "        cursor: pointer;\n",
       "        display: flex;\n",
       "        flex: 0 0 56px;\n",
       "        font-size: 20px;\n",
       "        height: 40px;\n",
       "        justify-content: center;\n",
       "        opacity: 0.8;\n",
       "        outline: none;\n",
       "        transition: opacity 0.2s;\n",
       "\n",
       "        &:hover {\n",
       "          opacity: 1;\n",
       "        }\n",
       "      `;\n",
       "\n",
       "      const StepCount = styled.span`\n",
       "        align-items: center;\n",
       "        color: white;\n",
       "        display: flex;\n",
       "        font-size: 14px;\n",
       "        justify-content: center;\n",
       "        opacity: 0.8;\n",
       "        padding: 0 16px;\n",
       "        pointer-events: none;\n",
       "      `;\n",
       "\n",
       "      const Controls = styled((props) => {\n",
       "        const { environment, pause, play, playing, setStep, step } = useContext(\n",
       "          Context\n",
       "        );\n",
       "        const value = step + 1;\n",
       "        const onClick = () => (playing ? pause() : play());\n",
       "        const onInput = (e) => {\n",
       "          pause();\n",
       "          setStep(parseInt(e.target.value) - 1);\n",
       "        };\n",
       "\n",
       "        return h`\n",
       "          <div className=${props.className}>\n",
       "            <${PlayButton} onClick=${onClick}><svg xmlns=&quot;http://www.w3.org/2000/svg&quot; width=&quot;24px&quot; height=&quot;24px&quot; viewBox=&quot;0 0 24 24&quot; fill=&quot;#FFFFFF&quot;>${\n",
       "          playing\n",
       "            ? h`<path d=&quot;M6 19h4V5H6v14zm8-14v14h4V5h-4z&quot;/><path d=&quot;M0 0h24v24H0z&quot; fill=&quot;none&quot;/>`\n",
       "            : h`<path d=&quot;M8 5v14l11-7z&quot;/><path d=&quot;M0 0h24v24H0z&quot; fill=&quot;none&quot;/>`\n",
       "        }</svg><//>\n",
       "            <${StepInput} min=&quot;1&quot; max=${\n",
       "          environment.steps.length\n",
       "        } value=&quot;${value}&quot; onInput=${onInput} />\n",
       "            <${StepCount}>${value} / ${environment.steps.length}<//>\n",
       "          </div>\n",
       "        `;\n",
       "      })`\n",
       "        align-items: center;\n",
       "        border-top: 4px solid #212121;\n",
       "        display: flex;\n",
       "        flex: 0 0 44px;\n",
       "        width: 100%;\n",
       "      `;\n",
       "\n",
       "      const Info = styled((props) => {\n",
       "        const {\n",
       "          environment,\n",
       "          playing,\n",
       "          step,\n",
       "          speed,\n",
       "          animate,\n",
       "          header,\n",
       "          controls,\n",
       "          settings,\n",
       "        } = useContext(Context);\n",
       "\n",
       "        return h`\n",
       "          <div className=${props.className}>\n",
       "            info:\n",
       "            step(${step}),\n",
       "            playing(${playing ? &quot;T&quot; : &quot;F&quot;}),\n",
       "            speed(${speed}),\n",
       "            animate(${animate ? &quot;T&quot; : &quot;F&quot;})\n",
       "          </div>`;\n",
       "      })`\n",
       "        color: #888;\n",
       "        font-family: monospace;\n",
       "        font-size: 12px;\n",
       "      `;\n",
       "\n",
       "      const Settings = styled((props) => {\n",
       "        const { environment, pause, play, playing, setStep, step } = useContext(\n",
       "          Context\n",
       "        );\n",
       "\n",
       "        return h`\n",
       "          <div className=${props.className}>\n",
       "            <${Info} />\n",
       "          </div>\n",
       "        `;\n",
       "      })`\n",
       "        background: #fff;\n",
       "        border-top: 4px solid #212121;\n",
       "        box-sizing: border-box;\n",
       "        padding: 20px;\n",
       "        width: 100%;\n",
       "\n",
       "        h1 {\n",
       "          font-size: 20px;\n",
       "        }\n",
       "      `;\n",
       "\n",
       "      const Player = styled((props) => {\n",
       "        const context = useContext(Context);\n",
       "        const { agents, controls, header, legend, loading, settings, width } = context;\n",
       "        return h`\n",
       "          <div className=${props.className}>\n",
       "            ${loading && h`<${Loading} />`}\n",
       "            ${!loading && header && h`<${Header} />`}\n",
       "            ${!loading && h`<${Viewer} />`}\n",
       "            ${!loading && legend && h`<${Legend} width=${width}/>`}\n",
       "            ${!loading && controls && h`<${Controls} />`}\n",
       "            ${!loading && settings && h`<${Settings} />`}\n",
       "          </div>`;\n",
       "      })`\n",
       "        align-items: center;\n",
       "        background: #212121;\n",
       "        border: 4px solid #212121;\n",
       "        box-sizing: border-box;\n",
       "        display: flex;\n",
       "        flex-direction: column;\n",
       "        height: 100%;\n",
       "        justify-content: center;\n",
       "        position: relative;\n",
       "        width: 100%;\n",
       "      `;\n",
       "\n",
       "      const App = () => {\n",
       "        const renderCountRef = useRef(0);\n",
       "        const [_, setRenderCount] = useState(0);\n",
       "\n",
       "        // These are bindings to the 0-9 keys and are milliseconds of timeout per step\n",
       "        const speeds = [\n",
       "          0,\n",
       "          3000,\n",
       "          1000,\n",
       "          500,\n",
       "          333, // Default\n",
       "          200,\n",
       "          100,\n",
       "          50,\n",
       "          25,\n",
       "          10,\n",
       "        ];\n",
       "\n",
       "        const contextRef = useRef({\n",
       "          animate: false,\n",
       "          agents: [],\n",
       "          controls: false,\n",
       "          debug: false,\n",
       "          environment: { steps: [], info: {} },\n",
       "          header: window.innerHeight >= 600,\n",
       "          height: window.innerHeight,\n",
       "          interactive: false,\n",
       "          legend: true,\n",
       "          loading: false,\n",
       "          playing: false,\n",
       "          processing: false,\n",
       "          renderer: () => &quot;DNE&quot;,\n",
       "          settings: false,\n",
       "          speed: speeds[4],\n",
       "          step: 0,\n",
       "          width: window.innerWidth,\n",
       "        });\n",
       "\n",
       "        // Context helpers.\n",
       "        const rerender = (contextRef.current.rerender = () =>\n",
       "          setRenderCount((renderCountRef.current += 1)));\n",
       "        const setStep = (contextRef.current.setStep = (newStep) => {\n",
       "          contextRef.current.step = newStep;\n",
       "          rerender();\n",
       "        });\n",
       "        const setPlaying = (contextRef.current.setPlaying = (playing) => {\n",
       "          contextRef.current.playing = playing;\n",
       "          rerender();\n",
       "        });\n",
       "        const pause = (contextRef.current.pause = () => setPlaying(false));\n",
       "\n",
       "        const playNext = () => {\n",
       "          const context = contextRef.current;\n",
       "\n",
       "          if (\n",
       "            context.playing &&\n",
       "            context.step < context.environment.steps.length - 1\n",
       "          ) {\n",
       "            setStep(context.step + 1);\n",
       "            play(true);\n",
       "          } else {\n",
       "            pause();\n",
       "          }\n",
       "        };\n",
       "\n",
       "        const play = (contextRef.current.play = (continuing) => {\n",
       "          const context = contextRef.current;\n",
       "          if (context.playing && !continuing) return;\n",
       "          if (!context.playing) setPlaying(true);\n",
       "          if (\n",
       "            !continuing &&\n",
       "            context.step === context.environment.steps.length - 1\n",
       "          ) {\n",
       "            setStep(0);\n",
       "          }\n",
       "          setTimeout(playNext, context.speed);\n",
       "        });\n",
       "\n",
       "        const updateContext = (o) => {\n",
       "          const context = contextRef.current;\n",
       "          Object.assign(context, o, {\n",
       "            environment: { ...context.environment, ...(o.environment || {}) },\n",
       "          });\n",
       "          rerender();\n",
       "        };\n",
       "\n",
       "        // First time setup.\n",
       "        useEffect(() => {\n",
       "          // Timeout is used to ensure useEffect renders once.\n",
       "          setTimeout(() => {\n",
       "            // Initialize context with window.kaggle.\n",
       "            updateContext(window.kaggle || {});\n",
       "\n",
       "            if (window.kaggle.playing) {\n",
       "                play(true);\n",
       "            }\n",
       "\n",
       "            // Listen for messages received to update the context.\n",
       "            window.addEventListener(\n",
       "              &quot;message&quot;,\n",
       "              (event) => {\n",
       "                // Ensure the environment names match before updating.\n",
       "                try {\n",
       "                  if (\n",
       "                    event.data.environment.name ==\n",
       "                    contextRef.current.environment.name\n",
       "                  ) {\n",
       "                    updateContext(event.data);\n",
       "                  }\n",
       "                } catch {}\n",
       "              },\n",
       "              false\n",
       "            );\n",
       "            // Listen for keyboard commands.\n",
       "            window.addEventListener(\n",
       "              &quot;keydown&quot;,\n",
       "              (event) => {\n",
       "                const {\n",
       "                  interactive,\n",
       "                  isInteractive,\n",
       "                  playing,\n",
       "                  step,\n",
       "                  environment,\n",
       "                } = contextRef.current;\n",
       "                const key = event.keyCode;\n",
       "                const zero_key = 48\n",
       "                const nine_key = 57\n",
       "                if (\n",
       "                  interactive ||\n",
       "                  isInteractive() ||\n",
       "                  (key !== 32 && key !== 37 && key !== 39 && !(key >= zero_key && key <= nine_key))\n",
       "                )\n",
       "                  return;\n",
       "\n",
       "                if (key === 32) {\n",
       "                  playing ? pause() : play();\n",
       "                } else if (key === 39) {\n",
       "                  contextRef.current.playing = false;\n",
       "                  if (step < environment.steps.length - 1) setStep(step + 1);\n",
       "                  rerender();\n",
       "                } else if (key === 37) {\n",
       "                  contextRef.current.playing = false;\n",
       "                  if (step > 0) setStep(step - 1);\n",
       "                  rerender();\n",
       "                } else if (key >= zero_key && key <= nine_key) {\n",
       "                  contextRef.current.speed = speeds[key - zero_key];\n",
       "                }\n",
       "                event.preventDefault();\n",
       "                return false;\n",
       "              },\n",
       "              false\n",
       "            );\n",
       "          }, 1);\n",
       "        }, []);\n",
       "\n",
       "        if (contextRef.current.debug) {\n",
       "          console.log(&quot;context&quot;, contextRef.current);\n",
       "        }\n",
       "\n",
       "        // Ability to update context.\n",
       "        contextRef.current.update = updateContext;\n",
       "\n",
       "        // Ability to communicate with ipython.\n",
       "        const execute = (contextRef.current.execute = (source) =>\n",
       "          new Promise((resolve, reject) => {\n",
       "            try {\n",
       "              window.parent.IPython.notebook.kernel.execute(source, {\n",
       "                iopub: {\n",
       "                  output: (resp) => {\n",
       "                    const type = resp.msg_type;\n",
       "                    if (type === &quot;stream&quot;) return resolve(resp.content.text);\n",
       "                    if (type === &quot;error&quot;) return reject(new Error(resp.evalue));\n",
       "                    return reject(new Error(&quot;Unknown message type: &quot; + type));\n",
       "                  },\n",
       "                },\n",
       "              });\n",
       "            } catch (e) {\n",
       "              reject(new Error(&quot;IPython Unavailable: &quot; + e));\n",
       "            }\n",
       "          }));\n",
       "\n",
       "        // Ability to return an action from an interactive session.\n",
       "        contextRef.current.act = (action) => {\n",
       "          const id = contextRef.current.environment.id;\n",
       "          updateContext({ processing: true });\n",
       "          execute(`\n",
       "            import json\n",
       "            from kaggle_environments import interactives\n",
       "            if &quot;${id}&quot; in interactives:\n",
       "                action = json.loads('${JSON.stringify(action)}')\n",
       "                env, trainer = interactives[&quot;${id}&quot;]\n",
       "                trainer.step(action)\n",
       "                print(json.dumps(env.steps))`)\n",
       "            .then((resp) => {\n",
       "              try {\n",
       "                updateContext({\n",
       "                  processing: false,\n",
       "                  environment: { steps: JSON.parse(resp) },\n",
       "                });\n",
       "                play();\n",
       "              } catch (e) {\n",
       "                updateContext({ processing: resp.split(&quot;\\n&quot;)[0] });\n",
       "                console.error(resp, e);\n",
       "              }\n",
       "            })\n",
       "            .catch((e) => console.error(e));\n",
       "        };\n",
       "\n",
       "        // Check if currently interactive.\n",
       "        contextRef.current.isInteractive = () => {\n",
       "          const context = contextRef.current;\n",
       "          const steps = context.environment.steps;\n",
       "          return (\n",
       "            context.interactive &&\n",
       "            !context.processing &&\n",
       "            context.step === steps.length - 1 &&\n",
       "            steps[context.step].some((s) => s.status === &quot;ACTIVE&quot;)\n",
       "          );\n",
       "        };\n",
       "\n",
       "        return h`\n",
       "          <${Context.Provider} value=${contextRef.current}>\n",
       "            <${Player} />\n",
       "          <//>`;\n",
       "      };\n",
       "\n",
       "      preact.render(h`<${App} />`, document.body);\n",
       "    </script>\n",
       "  </body>\n",
       "</html>\n",
       "\" width=\"500\" height=\"400\" frameborder=\"0\"></iframe> "
      ],
      "text/plain": [
       "<IPython.core.display.HTML object>"
      ]
     },
     "metadata": {},
     "output_type": "display_data"
    }
   ],
   "source": [
    "env.run(\n",
    "    [\"rock_agent.py\", \"scissors_agent.py\"]\n",
    ")\n",
    "\n",
    "env.render(mode=\"ipython\", width=500, height=400)"
   ]
  },
  {
   "cell_type": "markdown",
   "metadata": {
    "id": "lOF8TrIv69Ls"
   },
   "source": [
    "#### Проведение турнира"
   ]
  },
  {
   "cell_type": "code",
   "execution_count": 176,
   "metadata": {},
   "outputs": [],
   "source": [
    "list_names = [\n",
    "    \"rock_agent\", \n",
    "    \"paper_agent\", \n",
    "    \"scissors_agent\",\n",
    "    \"copy_opponent\",  \n",
    "    \"reactionary\", \n",
    "    \"counter_reactionary\", \n",
    "    \"statistical\", \n",
    "    \"nash_equilibrium_agent\",\n",
    "]\n",
    "list_agents = [agent_name+\".py\" for agent_name in list_names]\n",
    "\n",
    "scores = np.zeros((len(list_names), len(list_names)), dtype=int)"
   ]
  },
  {
   "cell_type": "code",
   "execution_count": 177,
   "metadata": {},
   "outputs": [
    {
     "name": "stderr",
     "output_type": "stream",
     "text": [
      "100%|██████████| 8/8 [00:15<00:00,  1.93s/it]\n"
     ]
    }
   ],
   "source": [
    "for ind_agent_1 in tqdm(range(len(list_names))):\n",
    "  for ind_agent_2 in range(ind_agent_1 + 1, len(list_names)):\n",
    "        \n",
    "    current_score = evaluate(\n",
    "      \"rps\", \n",
    "      [list_agents[ind_agent_1], list_agents[ind_agent_2]], \n",
    "      configuration={\"episodeSteps\": 1000}\n",
    "    )\n",
    "    scores[ind_agent_1, ind_agent_2] = current_score[0][0] if current_score[0][0] else -1\n",
    "    scores[ind_agent_2, ind_agent_1] = current_score[0][1] if current_score[0][1] else -1"
   ]
  },
  {
   "cell_type": "code",
   "execution_count": 178,
   "metadata": {},
   "outputs": [
    {
     "data": {
      "text/plain": [
       "(array([0.5, 1.5, 2.5, 3.5, 4.5, 5.5, 6.5, 7.5]),\n",
       " [Text(0, 0.5, 'rock_agent'),\n",
       "  Text(0, 1.5, 'paper_agent'),\n",
       "  Text(0, 2.5, 'scissors_agent'),\n",
       "  Text(0, 3.5, 'copy_opponent'),\n",
       "  Text(0, 4.5, 'reactionary'),\n",
       "  Text(0, 5.5, 'counter_reactionary'),\n",
       "  Text(0, 6.5, 'statistical'),\n",
       "  Text(0, 7.5, 'nash_equilibrium_agent')])"
      ]
     },
     "execution_count": 178,
     "metadata": {},
     "output_type": "execute_result"
    },
    {
     "data": {
      "image/png": "[encoded data removed]",
      "text/plain": [
       "<Figure size 648x648 with 1 Axes>"
      ]
     },
     "metadata": {
      "needs_background": "light"
     },
     "output_type": "display_data"
    }
   ],
   "source": [
    "df_scores = pd.DataFrame(\n",
    "    scores, \n",
    "    index=list_names, \n",
    "    columns=list_names,\n",
    ")\n",
    "\n",
    "\n",
    "plt.figure(figsize=(9, 9))\n",
    "sns.heatmap(\n",
    "    df_scores, annot=True, cbar=False, cmap='coolwarm', linewidths=1, linecolor='black', fmt=\"d\"\n",
    ")\n",
    "plt.xticks(rotation=90, fontsize=15)\n",
    "plt.yticks(fontsize=15)"
   ]
  }
 ],
 "metadata": {
  "ExecuteTimeLog": [
   {
    "duration": 2584,
    "start_time": "2022-09-29T16:32:58.943Z"
   },
   {
    "duration": 1513,
    "start_time": "2022-09-29T16:33:01.529Z"
   },
   {
    "duration": 211,
    "start_time": "2022-09-29T16:33:03.044Z"
   },
   {
    "duration": 138,
    "start_time": "2022-09-29T16:33:03.256Z"
   },
   {
    "duration": 234,
    "start_time": "2022-09-29T16:33:03.396Z"
   },
   {
    "duration": 221,
    "start_time": "2022-09-29T16:33:03.632Z"
   },
   {
    "duration": 312,
    "start_time": "2022-09-29T16:33:03.855Z"
   },
   {
    "duration": 205,
    "start_time": "2022-09-29T16:33:04.169Z"
   },
   {
    "duration": 257,
    "start_time": "2022-09-29T16:33:04.377Z"
   },
   {
    "duration": 196,
    "start_time": "2022-09-29T16:33:04.636Z"
   },
   {
    "duration": 9,
    "start_time": "2022-09-29T16:33:04.834Z"
   },
   {
    "duration": 125,
    "start_time": "2022-09-29T16:33:04.844Z"
   },
   {
    "duration": 130,
    "start_time": "2022-09-29T16:33:04.971Z"
   },
   {
    "duration": 0,
    "start_time": "2022-09-29T16:33:05.103Z"
   },
   {
    "duration": 0,
    "start_time": "2022-09-29T16:33:05.104Z"
   },
   {
    "duration": 118,
    "start_time": "2022-09-29T16:34:24.644Z"
   },
   {
    "duration": 3,
    "start_time": "2022-09-29T16:35:49.195Z"
   },
   {
    "duration": 10,
    "start_time": "2022-09-29T16:36:19.355Z"
   },
   {
    "duration": 2461,
    "start_time": "2022-09-29T16:37:36.999Z"
   },
   {
    "duration": 8,
    "start_time": "2022-09-29T16:37:39.462Z"
   },
   {
    "duration": 59,
    "start_time": "2022-09-29T16:37:39.471Z"
   },
   {
    "duration": 74,
    "start_time": "2022-09-29T16:37:39.532Z"
   },
   {
    "duration": 57,
    "start_time": "2022-09-29T16:37:39.608Z"
   },
   {
    "duration": 66,
    "start_time": "2022-09-29T16:37:39.666Z"
   },
   {
    "duration": 48,
    "start_time": "2022-09-29T16:37:39.734Z"
   },
   {
    "duration": 75,
    "start_time": "2022-09-29T16:37:39.784Z"
   },
   {
    "duration": 73,
    "start_time": "2022-09-29T16:37:39.860Z"
   },
   {
    "duration": 45,
    "start_time": "2022-09-29T16:37:39.936Z"
   },
   {
    "duration": 8,
    "start_time": "2022-09-29T16:37:39.983Z"
   },
   {
    "duration": 112,
    "start_time": "2022-09-29T16:37:39.993Z"
   },
   {
    "duration": 21,
    "start_time": "2022-09-29T16:37:40.106Z"
   },
   {
    "duration": 63,
    "start_time": "2022-09-29T16:37:40.132Z"
   },
   {
    "duration": 2395,
    "start_time": "2022-09-29T16:42:05.491Z"
   },
   {
    "duration": 4,
    "start_time": "2022-09-29T16:42:07.888Z"
   },
   {
    "duration": 77,
    "start_time": "2022-09-29T16:42:07.894Z"
   },
   {
    "duration": 95,
    "start_time": "2022-09-29T16:42:07.972Z"
   },
   {
    "duration": 74,
    "start_time": "2022-09-29T16:42:08.070Z"
   },
   {
    "duration": 52,
    "start_time": "2022-09-29T16:42:08.146Z"
   },
   {
    "duration": 109,
    "start_time": "2022-09-29T16:42:08.199Z"
   },
   {
    "duration": 60,
    "start_time": "2022-09-29T16:42:08.321Z"
   },
   {
    "duration": 71,
    "start_time": "2022-09-29T16:42:08.382Z"
   },
   {
    "duration": 51,
    "start_time": "2022-09-29T16:42:08.455Z"
   },
   {
    "duration": 25,
    "start_time": "2022-09-29T16:42:08.507Z"
   },
   {
    "duration": 198,
    "start_time": "2022-09-29T16:42:08.533Z"
   },
   {
    "duration": 8,
    "start_time": "2022-09-29T16:42:08.732Z"
   },
   {
    "duration": 91,
    "start_time": "2022-09-29T16:42:08.743Z"
   },
   {
    "duration": 2436,
    "start_time": "2022-09-29T16:42:46.032Z"
   },
   {
    "duration": 4,
    "start_time": "2022-09-29T16:42:48.470Z"
   },
   {
    "duration": 59,
    "start_time": "2022-09-29T16:42:48.475Z"
   },
   {
    "duration": 43,
    "start_time": "2022-09-29T16:42:48.536Z"
   },
   {
    "duration": 52,
    "start_time": "2022-09-29T16:42:48.581Z"
   },
   {
    "duration": 38,
    "start_time": "2022-09-29T16:42:48.637Z"
   },
   {
    "duration": 54,
    "start_time": "2022-09-29T16:42:48.676Z"
   },
   {
    "duration": 51,
    "start_time": "2022-09-29T16:42:48.732Z"
   },
   {
    "duration": 63,
    "start_time": "2022-09-29T16:42:48.784Z"
   },
   {
    "duration": 55,
    "start_time": "2022-09-29T16:42:48.848Z"
   },
   {
    "duration": 9,
    "start_time": "2022-09-29T16:42:48.904Z"
   },
   {
    "duration": 126,
    "start_time": "2022-09-29T16:42:48.915Z"
   },
   {
    "duration": 4,
    "start_time": "2022-09-29T16:42:49.042Z"
   },
   {
    "duration": 11108,
    "start_time": "2022-09-29T16:42:49.048Z"
   },
   {
    "duration": 623,
    "start_time": "2022-09-29T16:43:35.429Z"
   },
   {
    "duration": 2417,
    "start_time": "2022-09-29T16:56:07.372Z"
   },
   {
    "duration": 3,
    "start_time": "2022-09-29T16:56:09.791Z"
   },
   {
    "duration": 60,
    "start_time": "2022-09-29T16:56:09.795Z"
   },
   {
    "duration": 70,
    "start_time": "2022-09-29T16:56:09.857Z"
   },
   {
    "duration": 38,
    "start_time": "2022-09-29T16:56:09.929Z"
   },
   {
    "duration": 39,
    "start_time": "2022-09-29T16:56:09.968Z"
   },
   {
    "duration": 63,
    "start_time": "2022-09-29T16:56:10.008Z"
   },
   {
    "duration": 42,
    "start_time": "2022-09-29T16:56:10.072Z"
   },
   {
    "duration": 55,
    "start_time": "2022-09-29T16:56:10.117Z"
   },
   {
    "duration": 142,
    "start_time": "2022-09-29T16:56:10.175Z"
   },
   {
    "duration": 13,
    "start_time": "2022-09-29T16:56:10.323Z"
   },
   {
    "duration": 151,
    "start_time": "2022-09-29T16:56:10.338Z"
   },
   {
    "duration": 3,
    "start_time": "2022-09-29T16:56:10.491Z"
   },
   {
    "duration": 11139,
    "start_time": "2022-09-29T16:56:10.495Z"
   },
   {
    "duration": 608,
    "start_time": "2022-09-29T16:56:21.640Z"
   },
   {
    "duration": 2528,
    "start_time": "2022-09-29T16:57:21.636Z"
   },
   {
    "duration": 4,
    "start_time": "2022-09-29T16:57:24.166Z"
   },
   {
    "duration": 54,
    "start_time": "2022-09-29T16:57:24.172Z"
   },
   {
    "duration": 48,
    "start_time": "2022-09-29T16:57:24.229Z"
   },
   {
    "duration": 60,
    "start_time": "2022-09-29T16:57:24.279Z"
   },
   {
    "duration": 53,
    "start_time": "2022-09-29T16:57:24.340Z"
   },
   {
    "duration": 59,
    "start_time": "2022-09-29T16:57:24.394Z"
   },
   {
    "duration": 65,
    "start_time": "2022-09-29T16:57:24.454Z"
   },
   {
    "duration": 64,
    "start_time": "2022-09-29T16:57:24.521Z"
   },
   {
    "duration": 118,
    "start_time": "2022-09-29T16:57:24.588Z"
   },
   {
    "duration": 11,
    "start_time": "2022-09-29T16:57:24.708Z"
   },
   {
    "duration": 183,
    "start_time": "2022-09-29T16:57:24.722Z"
   },
   {
    "duration": 10,
    "start_time": "2022-09-29T16:57:24.907Z"
   },
   {
    "duration": 11178,
    "start_time": "2022-09-29T16:57:24.920Z"
   },
   {
    "duration": 631,
    "start_time": "2022-09-29T16:57:36.100Z"
   },
   {
    "duration": 2695,
    "start_time": "2022-09-29T17:06:13.665Z"
   },
   {
    "duration": 3,
    "start_time": "2022-09-29T17:06:16.363Z"
   },
   {
    "duration": 83,
    "start_time": "2022-09-29T17:06:16.367Z"
   },
   {
    "duration": 78,
    "start_time": "2022-09-29T17:06:16.452Z"
   },
   {
    "duration": 55,
    "start_time": "2022-09-29T17:06:16.533Z"
   },
   {
    "duration": 73,
    "start_time": "2022-09-29T17:06:16.589Z"
   },
   {
    "duration": 269,
    "start_time": "2022-09-29T17:06:16.664Z"
   },
   {
    "duration": 135,
    "start_time": "2022-09-29T17:06:16.934Z"
   },
   {
    "duration": 119,
    "start_time": "2022-09-29T17:06:17.071Z"
   },
   {
    "duration": 77,
    "start_time": "2022-09-29T17:06:17.192Z"
   },
   {
    "duration": 10,
    "start_time": "2022-09-29T17:06:17.271Z"
   },
   {
    "duration": 311,
    "start_time": "2022-09-29T17:06:17.282Z"
   },
   {
    "duration": 36,
    "start_time": "2022-09-29T17:06:17.594Z"
   },
   {
    "duration": 0,
    "start_time": "2022-09-29T17:06:17.632Z"
   },
   {
    "duration": 0,
    "start_time": "2022-09-29T17:06:17.633Z"
   },
   {
    "duration": 2908,
    "start_time": "2022-09-29T17:08:10.134Z"
   },
   {
    "duration": 4,
    "start_time": "2022-09-29T17:08:13.045Z"
   },
   {
    "duration": 83,
    "start_time": "2022-09-29T17:08:13.051Z"
   },
   {
    "duration": 100,
    "start_time": "2022-09-29T17:08:13.136Z"
   },
   {
    "duration": 296,
    "start_time": "2022-09-29T17:08:13.238Z"
   },
   {
    "duration": 58,
    "start_time": "2022-09-29T17:08:13.536Z"
   },
   {
    "duration": 55,
    "start_time": "2022-09-29T17:08:13.596Z"
   },
   {
    "duration": 38,
    "start_time": "2022-09-29T17:08:13.652Z"
   },
   {
    "duration": 60,
    "start_time": "2022-09-29T17:08:13.692Z"
   },
   {
    "duration": 124,
    "start_time": "2022-09-29T17:08:13.754Z"
   },
   {
    "duration": 9,
    "start_time": "2022-09-29T17:08:13.880Z"
   },
   {
    "duration": 197,
    "start_time": "2022-09-29T17:08:13.891Z"
   },
   {
    "duration": 17,
    "start_time": "2022-09-29T17:08:14.089Z"
   },
   {
    "duration": 0,
    "start_time": "2022-09-29T17:08:14.107Z"
   },
   {
    "duration": 0,
    "start_time": "2022-09-29T17:08:14.108Z"
   },
   {
    "duration": 2526,
    "start_time": "2022-09-29T17:08:39.470Z"
   },
   {
    "duration": 4,
    "start_time": "2022-09-29T17:08:41.998Z"
   },
   {
    "duration": 63,
    "start_time": "2022-09-29T17:08:42.003Z"
   },
   {
    "duration": 88,
    "start_time": "2022-09-29T17:08:42.068Z"
   },
   {
    "duration": 39,
    "start_time": "2022-09-29T17:08:42.158Z"
   },
   {
    "duration": 85,
    "start_time": "2022-09-29T17:08:42.199Z"
   },
   {
    "duration": 112,
    "start_time": "2022-09-29T17:08:42.286Z"
   },
   {
    "duration": 125,
    "start_time": "2022-09-29T17:08:42.399Z"
   },
   {
    "duration": 120,
    "start_time": "2022-09-29T17:08:42.526Z"
   },
   {
    "duration": 2,
    "start_time": "2022-09-29T17:08:42.647Z"
   },
   {
    "duration": 15,
    "start_time": "2022-09-29T17:08:42.650Z"
   },
   {
    "duration": 101,
    "start_time": "2022-09-29T17:08:42.666Z"
   },
   {
    "duration": 17,
    "start_time": "2022-09-29T17:08:42.769Z"
   },
   {
    "duration": 0,
    "start_time": "2022-09-29T17:08:42.787Z"
   },
   {
    "duration": 0,
    "start_time": "2022-09-29T17:08:42.789Z"
   },
   {
    "duration": 2598,
    "start_time": "2022-09-29T17:09:03.166Z"
   },
   {
    "duration": 3,
    "start_time": "2022-09-29T17:09:05.766Z"
   },
   {
    "duration": 77,
    "start_time": "2022-09-29T17:09:05.771Z"
   },
   {
    "duration": 83,
    "start_time": "2022-09-29T17:09:05.849Z"
   },
   {
    "duration": 101,
    "start_time": "2022-09-29T17:09:05.935Z"
   },
   {
    "duration": 46,
    "start_time": "2022-09-29T17:09:06.038Z"
   },
   {
    "duration": 125,
    "start_time": "2022-09-29T17:09:06.086Z"
   },
   {
    "duration": 118,
    "start_time": "2022-09-29T17:09:06.213Z"
   },
   {
    "duration": 96,
    "start_time": "2022-09-29T17:09:06.332Z"
   },
   {
    "duration": 6,
    "start_time": "2022-09-29T17:09:06.429Z"
   },
   {
    "duration": 11,
    "start_time": "2022-09-29T17:09:06.437Z"
   },
   {
    "duration": 121,
    "start_time": "2022-09-29T17:09:06.449Z"
   },
   {
    "duration": 16,
    "start_time": "2022-09-29T17:09:06.571Z"
   },
   {
    "duration": 0,
    "start_time": "2022-09-29T17:09:06.589Z"
   },
   {
    "duration": 0,
    "start_time": "2022-09-29T17:09:06.590Z"
   },
   {
    "duration": 37,
    "start_time": "2022-09-29T17:11:20.398Z"
   },
   {
    "duration": 12,
    "start_time": "2022-09-29T17:11:23.733Z"
   },
   {
    "duration": 14,
    "start_time": "2022-09-29T17:11:50.458Z"
   },
   {
    "duration": 4,
    "start_time": "2022-09-29T17:13:27.933Z"
   },
   {
    "duration": 78,
    "start_time": "2022-09-29T17:13:34.584Z"
   },
   {
    "duration": 3,
    "start_time": "2022-09-29T17:13:50.533Z"
   },
   {
    "duration": 16603,
    "start_time": "2022-09-29T17:13:53.836Z"
   },
   {
    "duration": 625,
    "start_time": "2022-09-29T17:14:14.065Z"
   },
   {
    "duration": 2375,
    "start_time": "2022-09-29T17:15:07.331Z"
   },
   {
    "duration": 8,
    "start_time": "2022-09-29T17:15:09.715Z"
   },
   {
    "duration": 125,
    "start_time": "2022-09-29T17:15:09.727Z"
   },
   {
    "duration": 44,
    "start_time": "2022-09-29T17:15:09.853Z"
   },
   {
    "duration": 95,
    "start_time": "2022-09-29T17:15:09.899Z"
   },
   {
    "duration": 76,
    "start_time": "2022-09-29T17:15:09.995Z"
   },
   {
    "duration": 97,
    "start_time": "2022-09-29T17:15:10.072Z"
   },
   {
    "duration": 62,
    "start_time": "2022-09-29T17:15:10.170Z"
   },
   {
    "duration": 49,
    "start_time": "2022-09-29T17:15:10.234Z"
   },
   {
    "duration": 87,
    "start_time": "2022-09-29T17:15:10.284Z"
   },
   {
    "duration": 8,
    "start_time": "2022-09-29T17:15:10.373Z"
   },
   {
    "duration": 152,
    "start_time": "2022-09-29T17:15:10.383Z"
   },
   {
    "duration": 17,
    "start_time": "2022-09-29T17:15:10.536Z"
   },
   {
    "duration": 0,
    "start_time": "2022-09-29T17:15:10.554Z"
   },
   {
    "duration": 0,
    "start_time": "2022-09-29T17:15:10.556Z"
   },
   {
    "duration": 0,
    "start_time": "2022-09-29T17:15:10.557Z"
   },
   {
    "duration": 3,
    "start_time": "2022-09-29T17:15:50.283Z"
   },
   {
    "duration": 2428,
    "start_time": "2022-09-29T17:16:12.040Z"
   },
   {
    "duration": 5,
    "start_time": "2022-09-29T17:16:14.470Z"
   },
   {
    "duration": 76,
    "start_time": "2022-09-29T17:16:14.476Z"
   },
   {
    "duration": 41,
    "start_time": "2022-09-29T17:16:14.554Z"
   },
   {
    "duration": 63,
    "start_time": "2022-09-29T17:16:14.598Z"
   },
   {
    "duration": 75,
    "start_time": "2022-09-29T17:16:14.662Z"
   },
   {
    "duration": 92,
    "start_time": "2022-09-29T17:16:14.740Z"
   },
   {
    "duration": 53,
    "start_time": "2022-09-29T17:16:14.833Z"
   },
   {
    "duration": 81,
    "start_time": "2022-09-29T17:16:14.887Z"
   },
   {
    "duration": 60,
    "start_time": "2022-09-29T17:16:14.970Z"
   },
   {
    "duration": 11,
    "start_time": "2022-09-29T17:16:15.032Z"
   },
   {
    "duration": 162,
    "start_time": "2022-09-29T17:16:15.045Z"
   },
   {
    "duration": 8,
    "start_time": "2022-09-29T17:16:15.211Z"
   },
   {
    "duration": 15467,
    "start_time": "2022-09-29T17:16:15.220Z"
   },
   {
    "duration": 630,
    "start_time": "2022-09-29T17:16:30.689Z"
   }
  ],
  "colab": {
   "collapsed_sections": [],
   "provenance": []
  },
  "kernelspec": {
   "display_name": "Python 3 (ipykernel)",
   "language": "python",
   "name": "python3"
  },
  "language_info": {
   "codemirror_mode": {
    "name": "ipython",
    "version": 3
   },
   "file_extension": ".py",
   "mimetype": "text/x-python",
   "name": "python",
   "nbconvert_exporter": "python",
   "pygments_lexer": "ipython3",
   "version": "3.9.5"
  },
  "toc": {
   "base_numbering": 1,
   "nav_menu": {},
   "number_sections": true,
   "sideBar": true,
   "skip_h1_title": true,
   "title_cell": "Table of Contents",
   "title_sidebar": "Contents",
   "toc_cell": false,
   "toc_position": {},
   "toc_section_display": true,
   "toc_window_display": false
  }
 },
 "nbformat": 4,
 "nbformat_minor": 1
}
